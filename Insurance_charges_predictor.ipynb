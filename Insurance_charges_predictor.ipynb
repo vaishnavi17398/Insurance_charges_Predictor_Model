{
 "cells": [
  {
   "cell_type": "markdown",
   "id": "ff66fa5b",
   "metadata": {},
   "source": [
    "Problem Statement:\n",
    "The dataset looks simple but it will help understand the identifying factor that can play a role in predicting the medical cost that has been billed by the insurance company. In this problem, Our aim is to predict the health insurance charges given the independent variables.\n",
    "\n",
    "Source of the dataset: https://www.kaggle.com/datasets/teertha/ushealthinsurancedataset?resource=download\n",
    "\n",
    "Data Definition\n",
    "age : Age of the policyholder (Numeric)\n",
    "\n",
    "sex: Gender of policyholder (Categoric)\n",
    "\n",
    "bmi: Body mass index, providing an understanding of body, weights that are relatively high or low relative to height, objective index of body weight (kg / m ^ 2) using the ratio of height to weight (Numeric)\n",
    "\n",
    "children: Number of children covered by health insurance / Number of dependents (Numeric)\n",
    "\n",
    "smoker: Indicates policyholder is a smoker or a non-smoker (non-smoker=0;smoker=1) (Categoric)\n",
    "\n",
    "region: The beneficiary's residential area in the US, northeast, southeast, southwest, northwest.(Categoric)\n",
    "\n",
    "charges: Individual medical costs billed by health insurance. (Numerical)"
   ]
  },
  {
   "cell_type": "code",
   "execution_count": 1,
   "id": "5304e379",
   "metadata": {},
   "outputs": [],
   "source": [
    "# supress warnings \n",
    "from warnings import filterwarnings\n",
    "filterwarnings('ignore')\n",
    "import pandas as pd \n",
    "import numpy as np\n",
    "import matplotlib.pyplot as plt\n",
    "%matplotlib inline\n",
    "import seaborn as sns\n",
    "\n"
   ]
  },
  {
   "cell_type": "markdown",
   "id": "336757ab",
   "metadata": {},
   "source": [
    "# Data gathering"
   ]
  },
  {
   "cell_type": "code",
   "execution_count": 22,
   "id": "78ca9662",
   "metadata": {},
   "outputs": [],
   "source": [
    "df = pd.read_csv(\"insurance.csv\")\n"
   ]
  },
  {
   "cell_type": "markdown",
   "id": "943d361c",
   "metadata": {},
   "source": [
    "# Data cleaning and analysis"
   ]
  },
  {
   "cell_type": "code",
   "execution_count": 3,
   "id": "0235affe",
   "metadata": {},
   "outputs": [
    {
     "data": {
      "text/html": [
       "<div>\n",
       "<style scoped>\n",
       "    .dataframe tbody tr th:only-of-type {\n",
       "        vertical-align: middle;\n",
       "    }\n",
       "\n",
       "    .dataframe tbody tr th {\n",
       "        vertical-align: top;\n",
       "    }\n",
       "\n",
       "    .dataframe thead th {\n",
       "        text-align: right;\n",
       "    }\n",
       "</style>\n",
       "<table border=\"1\" class=\"dataframe\">\n",
       "  <thead>\n",
       "    <tr style=\"text-align: right;\">\n",
       "      <th></th>\n",
       "      <th>age</th>\n",
       "      <th>sex</th>\n",
       "      <th>bmi</th>\n",
       "      <th>children</th>\n",
       "      <th>smoker</th>\n",
       "      <th>region</th>\n",
       "      <th>charges</th>\n",
       "    </tr>\n",
       "  </thead>\n",
       "  <tbody>\n",
       "    <tr>\n",
       "      <th>0</th>\n",
       "      <td>19</td>\n",
       "      <td>female</td>\n",
       "      <td>27.900</td>\n",
       "      <td>0</td>\n",
       "      <td>yes</td>\n",
       "      <td>southwest</td>\n",
       "      <td>16884.92400</td>\n",
       "    </tr>\n",
       "    <tr>\n",
       "      <th>1</th>\n",
       "      <td>18</td>\n",
       "      <td>male</td>\n",
       "      <td>33.770</td>\n",
       "      <td>1</td>\n",
       "      <td>no</td>\n",
       "      <td>southeast</td>\n",
       "      <td>1725.55230</td>\n",
       "    </tr>\n",
       "    <tr>\n",
       "      <th>2</th>\n",
       "      <td>28</td>\n",
       "      <td>male</td>\n",
       "      <td>33.000</td>\n",
       "      <td>3</td>\n",
       "      <td>no</td>\n",
       "      <td>southeast</td>\n",
       "      <td>4449.46200</td>\n",
       "    </tr>\n",
       "    <tr>\n",
       "      <th>3</th>\n",
       "      <td>33</td>\n",
       "      <td>male</td>\n",
       "      <td>22.705</td>\n",
       "      <td>0</td>\n",
       "      <td>no</td>\n",
       "      <td>northwest</td>\n",
       "      <td>21984.47061</td>\n",
       "    </tr>\n",
       "    <tr>\n",
       "      <th>4</th>\n",
       "      <td>32</td>\n",
       "      <td>male</td>\n",
       "      <td>28.880</td>\n",
       "      <td>0</td>\n",
       "      <td>no</td>\n",
       "      <td>northwest</td>\n",
       "      <td>3866.85520</td>\n",
       "    </tr>\n",
       "  </tbody>\n",
       "</table>\n",
       "</div>"
      ],
      "text/plain": [
       "   age     sex     bmi  children smoker     region      charges\n",
       "0   19  female  27.900         0    yes  southwest  16884.92400\n",
       "1   18    male  33.770         1     no  southeast   1725.55230\n",
       "2   28    male  33.000         3     no  southeast   4449.46200\n",
       "3   33    male  22.705         0     no  northwest  21984.47061\n",
       "4   32    male  28.880         0     no  northwest   3866.85520"
      ]
     },
     "execution_count": 3,
     "metadata": {},
     "output_type": "execute_result"
    }
   ],
   "source": [
    "# display the top 5 rows of the dataframe\n",
    "df.head()"
   ]
  },
  {
   "cell_type": "code",
   "execution_count": 4,
   "id": "4f06bbaf",
   "metadata": {},
   "outputs": [
    {
     "data": {
      "text/plain": [
       "(1338, 7)"
      ]
     },
     "execution_count": 4,
     "metadata": {},
     "output_type": "execute_result"
    }
   ],
   "source": [
    "# .shape returns the dimension of the data\n",
    "df.shape"
   ]
  },
  {
   "cell_type": "code",
   "execution_count": 5,
   "id": "77e54990",
   "metadata": {},
   "outputs": [
    {
     "data": {
      "text/plain": [
       "age           int64\n",
       "sex          object\n",
       "bmi         float64\n",
       "children      int64\n",
       "smoker       object\n",
       "region       object\n",
       "charges     float64\n",
       "dtype: object"
      ]
     },
     "execution_count": 5,
     "metadata": {},
     "output_type": "execute_result"
    }
   ],
   "source": [
    "# use .dtypes to view the data type of a variable\n",
    "df.dtypes"
   ]
  },
  {
   "cell_type": "code",
   "execution_count": 6,
   "id": "fac5c0f1",
   "metadata": {},
   "outputs": [],
   "source": [
    "#we will change the sex, smoker, and region datatypes to categorical types.\n",
    "# convert object variable 'smoker' to (categorical) variable\n",
    "df.sex = df.sex.astype('category')\n",
    "\n",
    "# convert object variable 'smoker' to (categorical) variable\n",
    "df.smoker = df.smoker.astype('category')\n",
    "\n",
    "# convert 'object' variable region to (categorical) variable\n",
    "df.region = df.region.astype('category')"
   ]
  },
  {
   "cell_type": "code",
   "execution_count": 7,
   "id": "42df2696",
   "metadata": {},
   "outputs": [
    {
     "data": {
      "text/plain": [
       "age            int64\n",
       "sex         category\n",
       "bmi          float64\n",
       "children       int64\n",
       "smoker      category\n",
       "region      category\n",
       "charges      float64\n",
       "dtype: object"
      ]
     },
     "execution_count": 7,
     "metadata": {},
     "output_type": "execute_result"
    }
   ],
   "source": [
    "# recheck the data types using .dtypes\n",
    "df.dtypes"
   ]
  },
  {
   "cell_type": "code",
   "execution_count": 8,
   "id": "9b7b197e",
   "metadata": {},
   "outputs": [
    {
     "data": {
      "text/html": [
       "<div>\n",
       "<style scoped>\n",
       "    .dataframe tbody tr th:only-of-type {\n",
       "        vertical-align: middle;\n",
       "    }\n",
       "\n",
       "    .dataframe tbody tr th {\n",
       "        vertical-align: top;\n",
       "    }\n",
       "\n",
       "    .dataframe thead th {\n",
       "        text-align: right;\n",
       "    }\n",
       "</style>\n",
       "<table border=\"1\" class=\"dataframe\">\n",
       "  <thead>\n",
       "    <tr style=\"text-align: right;\">\n",
       "      <th></th>\n",
       "      <th>age</th>\n",
       "      <th>bmi</th>\n",
       "      <th>children</th>\n",
       "      <th>charges</th>\n",
       "    </tr>\n",
       "  </thead>\n",
       "  <tbody>\n",
       "    <tr>\n",
       "      <th>count</th>\n",
       "      <td>1338.000000</td>\n",
       "      <td>1338.000000</td>\n",
       "      <td>1338.000000</td>\n",
       "      <td>1338.000000</td>\n",
       "    </tr>\n",
       "    <tr>\n",
       "      <th>mean</th>\n",
       "      <td>39.207025</td>\n",
       "      <td>30.663397</td>\n",
       "      <td>1.094918</td>\n",
       "      <td>13270.422265</td>\n",
       "    </tr>\n",
       "    <tr>\n",
       "      <th>std</th>\n",
       "      <td>14.049960</td>\n",
       "      <td>6.098187</td>\n",
       "      <td>1.205493</td>\n",
       "      <td>12110.011237</td>\n",
       "    </tr>\n",
       "    <tr>\n",
       "      <th>min</th>\n",
       "      <td>18.000000</td>\n",
       "      <td>15.960000</td>\n",
       "      <td>0.000000</td>\n",
       "      <td>1121.873900</td>\n",
       "    </tr>\n",
       "    <tr>\n",
       "      <th>25%</th>\n",
       "      <td>27.000000</td>\n",
       "      <td>26.296250</td>\n",
       "      <td>0.000000</td>\n",
       "      <td>4740.287150</td>\n",
       "    </tr>\n",
       "    <tr>\n",
       "      <th>50%</th>\n",
       "      <td>39.000000</td>\n",
       "      <td>30.400000</td>\n",
       "      <td>1.000000</td>\n",
       "      <td>9382.033000</td>\n",
       "    </tr>\n",
       "    <tr>\n",
       "      <th>75%</th>\n",
       "      <td>51.000000</td>\n",
       "      <td>34.693750</td>\n",
       "      <td>2.000000</td>\n",
       "      <td>16639.912515</td>\n",
       "    </tr>\n",
       "    <tr>\n",
       "      <th>max</th>\n",
       "      <td>64.000000</td>\n",
       "      <td>53.130000</td>\n",
       "      <td>5.000000</td>\n",
       "      <td>63770.428010</td>\n",
       "    </tr>\n",
       "  </tbody>\n",
       "</table>\n",
       "</div>"
      ],
      "text/plain": [
       "               age          bmi     children       charges\n",
       "count  1338.000000  1338.000000  1338.000000   1338.000000\n",
       "mean     39.207025    30.663397     1.094918  13270.422265\n",
       "std      14.049960     6.098187     1.205493  12110.011237\n",
       "min      18.000000    15.960000     0.000000   1121.873900\n",
       "25%      27.000000    26.296250     0.000000   4740.287150\n",
       "50%      39.000000    30.400000     1.000000   9382.033000\n",
       "75%      51.000000    34.693750     2.000000  16639.912515\n",
       "max      64.000000    53.130000     5.000000  63770.428010"
      ]
     },
     "execution_count": 8,
     "metadata": {},
     "output_type": "execute_result"
    }
   ],
   "source": [
    "# describe the numerical data\n",
    "df.describe()"
   ]
  },
  {
   "cell_type": "code",
   "execution_count": null,
   "id": "4de3a879",
   "metadata": {},
   "outputs": [],
   "source": [
    "#the average age of a policyholder is about 39 years. Here the mean bmi of a policyholder is 30 (the healthy bmi range is between 18.5 to 24.9)."
   ]
  },
  {
   "cell_type": "code",
   "execution_count": 9,
   "id": "a86e7997",
   "metadata": {},
   "outputs": [
    {
     "data": {
      "text/html": [
       "<div>\n",
       "<style scoped>\n",
       "    .dataframe tbody tr th:only-of-type {\n",
       "        vertical-align: middle;\n",
       "    }\n",
       "\n",
       "    .dataframe tbody tr th {\n",
       "        vertical-align: top;\n",
       "    }\n",
       "\n",
       "    .dataframe thead th {\n",
       "        text-align: right;\n",
       "    }\n",
       "</style>\n",
       "<table border=\"1\" class=\"dataframe\">\n",
       "  <thead>\n",
       "    <tr style=\"text-align: right;\">\n",
       "      <th></th>\n",
       "      <th>sex</th>\n",
       "      <th>smoker</th>\n",
       "      <th>region</th>\n",
       "    </tr>\n",
       "  </thead>\n",
       "  <tbody>\n",
       "    <tr>\n",
       "      <th>count</th>\n",
       "      <td>1338</td>\n",
       "      <td>1338</td>\n",
       "      <td>1338</td>\n",
       "    </tr>\n",
       "    <tr>\n",
       "      <th>unique</th>\n",
       "      <td>2</td>\n",
       "      <td>2</td>\n",
       "      <td>4</td>\n",
       "    </tr>\n",
       "    <tr>\n",
       "      <th>top</th>\n",
       "      <td>male</td>\n",
       "      <td>no</td>\n",
       "      <td>southeast</td>\n",
       "    </tr>\n",
       "    <tr>\n",
       "      <th>freq</th>\n",
       "      <td>676</td>\n",
       "      <td>1064</td>\n",
       "      <td>364</td>\n",
       "    </tr>\n",
       "  </tbody>\n",
       "</table>\n",
       "</div>"
      ],
      "text/plain": [
       "         sex smoker     region\n",
       "count   1338   1338       1338\n",
       "unique     2      2          4\n",
       "top     male     no  southeast\n",
       "freq     676   1064        364"
      ]
     },
     "execution_count": 9,
     "metadata": {},
     "output_type": "execute_result"
    }
   ],
   "source": [
    "# describe the categorical data\n",
    "# include=category: selects the categorical features\n",
    "df.describe(include = 'category')"
   ]
  },
  {
   "cell_type": "code",
   "execution_count": null,
   "id": "507d69bd",
   "metadata": {},
   "outputs": [],
   "source": [
    "#count - Total number of observations\n",
    "#unique - Number of unique classes in a variable\n",
    "#top - The most repeated class\n",
    "#freq - Frequency of most repeated class"
   ]
  },
  {
   "cell_type": "code",
   "execution_count": null,
   "id": "b9ad0afb",
   "metadata": {},
   "outputs": [],
   "source": [
    "df.groupby('region').size()  \n",
    "# Is the data in the categorical attribute balanced? \n",
    "# Is there any bias hidden in the given data?"
   ]
  },
  {
   "cell_type": "code",
   "execution_count": 10,
   "id": "903b926c",
   "metadata": {},
   "outputs": [
    {
     "data": {
      "text/plain": [
       "age         0\n",
       "sex         0\n",
       "bmi         0\n",
       "children    0\n",
       "smoker      0\n",
       "region      0\n",
       "charges     0\n",
       "dtype: int64"
      ]
     },
     "execution_count": 10,
     "metadata": {},
     "output_type": "execute_result"
    }
   ],
   "source": [
    "df.isnull().sum()"
   ]
  },
  {
   "cell_type": "code",
   "execution_count": 13,
   "id": "2a00d8ea",
   "metadata": {},
   "outputs": [
    {
     "data": {
      "text/html": [
       "<div>\n",
       "<style scoped>\n",
       "    .dataframe tbody tr th:only-of-type {\n",
       "        vertical-align: middle;\n",
       "    }\n",
       "\n",
       "    .dataframe tbody tr th {\n",
       "        vertical-align: top;\n",
       "    }\n",
       "\n",
       "    .dataframe thead th {\n",
       "        text-align: right;\n",
       "    }\n",
       "</style>\n",
       "<table border=\"1\" class=\"dataframe\">\n",
       "  <thead>\n",
       "    <tr style=\"text-align: right;\">\n",
       "      <th></th>\n",
       "      <th>Total</th>\n",
       "      <th>Percentage of Missing Values</th>\n",
       "    </tr>\n",
       "  </thead>\n",
       "  <tbody>\n",
       "    <tr>\n",
       "      <th>age</th>\n",
       "      <td>0</td>\n",
       "      <td>0.0</td>\n",
       "    </tr>\n",
       "    <tr>\n",
       "      <th>sex</th>\n",
       "      <td>0</td>\n",
       "      <td>0.0</td>\n",
       "    </tr>\n",
       "    <tr>\n",
       "      <th>bmi</th>\n",
       "      <td>0</td>\n",
       "      <td>0.0</td>\n",
       "    </tr>\n",
       "    <tr>\n",
       "      <th>children</th>\n",
       "      <td>0</td>\n",
       "      <td>0.0</td>\n",
       "    </tr>\n",
       "    <tr>\n",
       "      <th>smoker</th>\n",
       "      <td>0</td>\n",
       "      <td>0.0</td>\n",
       "    </tr>\n",
       "    <tr>\n",
       "      <th>region</th>\n",
       "      <td>0</td>\n",
       "      <td>0.0</td>\n",
       "    </tr>\n",
       "    <tr>\n",
       "      <th>charges</th>\n",
       "      <td>0</td>\n",
       "      <td>0.0</td>\n",
       "    </tr>\n",
       "  </tbody>\n",
       "</table>\n",
       "</div>"
      ],
      "text/plain": [
       "          Total  Percentage of Missing Values\n",
       "age           0                           0.0\n",
       "sex           0                           0.0\n",
       "bmi           0                           0.0\n",
       "children      0                           0.0\n",
       "smoker        0                           0.0\n",
       "region        0                           0.0\n",
       "charges       0                           0.0"
      ]
     },
     "execution_count": 13,
     "metadata": {},
     "output_type": "execute_result"
    }
   ],
   "source": [
    "Total = df.isnull().sum().sort_values(ascending=False) \n",
    "\n",
    "Percent = (df.isnull().sum()*100/df.isnull().count()).sort_values(ascending=False)  \n",
    "missing_data = pd.concat([Total, Percent], axis = 1, keys = ['Total', 'Percentage of Missing Values'])\n",
    "\n",
    "# print the missing data\n",
    "missing_data\n"
   ]
  },
  {
   "cell_type": "code",
   "execution_count": 14,
   "id": "a929e90a",
   "metadata": {},
   "outputs": [],
   "source": [
    "df_numeric_features = df.select_dtypes(include=np.number)\n",
    "# filter numeric variables"
   ]
  },
  {
   "cell_type": "code",
   "execution_count": 15,
   "id": "3dfebeb7",
   "metadata": {},
   "outputs": [
    {
     "data": {
      "text/html": [
       "<div>\n",
       "<style scoped>\n",
       "    .dataframe tbody tr th:only-of-type {\n",
       "        vertical-align: middle;\n",
       "    }\n",
       "\n",
       "    .dataframe tbody tr th {\n",
       "        vertical-align: top;\n",
       "    }\n",
       "\n",
       "    .dataframe thead th {\n",
       "        text-align: right;\n",
       "    }\n",
       "</style>\n",
       "<table border=\"1\" class=\"dataframe\">\n",
       "  <thead>\n",
       "    <tr style=\"text-align: right;\">\n",
       "      <th></th>\n",
       "      <th>age</th>\n",
       "      <th>bmi</th>\n",
       "      <th>children</th>\n",
       "      <th>charges</th>\n",
       "    </tr>\n",
       "  </thead>\n",
       "  <tbody>\n",
       "    <tr>\n",
       "      <th>age</th>\n",
       "      <td>1.000000</td>\n",
       "      <td>0.109272</td>\n",
       "      <td>0.042469</td>\n",
       "      <td>0.299008</td>\n",
       "    </tr>\n",
       "    <tr>\n",
       "      <th>bmi</th>\n",
       "      <td>0.109272</td>\n",
       "      <td>1.000000</td>\n",
       "      <td>0.012759</td>\n",
       "      <td>0.198341</td>\n",
       "    </tr>\n",
       "    <tr>\n",
       "      <th>children</th>\n",
       "      <td>0.042469</td>\n",
       "      <td>0.012759</td>\n",
       "      <td>1.000000</td>\n",
       "      <td>0.067998</td>\n",
       "    </tr>\n",
       "    <tr>\n",
       "      <th>charges</th>\n",
       "      <td>0.299008</td>\n",
       "      <td>0.198341</td>\n",
       "      <td>0.067998</td>\n",
       "      <td>1.000000</td>\n",
       "    </tr>\n",
       "  </tbody>\n",
       "</table>\n",
       "</div>"
      ],
      "text/plain": [
       "               age       bmi  children   charges\n",
       "age       1.000000  0.109272  0.042469  0.299008\n",
       "bmi       0.109272  1.000000  0.012759  0.198341\n",
       "children  0.042469  0.012759  1.000000  0.067998\n",
       "charges   0.299008  0.198341  0.067998  1.000000"
      ]
     },
     "execution_count": 15,
     "metadata": {},
     "output_type": "execute_result"
    }
   ],
   "source": [
    "# generate the correlation matrix\n",
    "corr =  df_numeric_features.corr()\n",
    "# print the correlation matrix\n",
    "corr"
   ]
  },
  {
   "cell_type": "code",
   "execution_count": 16,
   "id": "9820f3c6",
   "metadata": {},
   "outputs": [
    {
     "data": {
      "image/png": "[encoded data removed]",
      "text/plain": [
       "<Figure size 1080x576 with 2 Axes>"
      ]
     },
     "metadata": {
      "needs_background": "light"
     },
     "output_type": "display_data"
    }
   ],
   "source": [
    "# set the figure size\n",
    "plt.figure(figsize=(15, 8))\n",
    "sns.heatmap(corr,  vmax=1.0, vmin=-1.0, annot = True , annot_kws={\"size\": 15})\n",
    "# corr: give the correlation matrix\n",
    "# cmap: colour code used for plotting\n",
    "# vmax: gives maximum range of values for the chart\n",
    "# vmin: gives minimum range of values for the chart\n",
    "# annot: prints the correlation values in the chart\n",
    "# annot_kws: Sets the font size of the annotation\n",
    "plt.title('Correlation between numeric features')\n",
    "plt.show()"
   ]
  },
  {
   "cell_type": "markdown",
   "id": "8dfa8f65",
   "metadata": {},
   "source": [
    "It can be observed that the numeric variables are less correlated with each other since all the correlation coefficients are close to zero or 0.1. It implies that there will be less multicollinearity in the data."
   ]
  },
  {
   "cell_type": "code",
   "execution_count": 17,
   "id": "e3522418",
   "metadata": {},
   "outputs": [
    {
     "data": {
      "text/plain": [
       "<seaborn.axisgrid.PairGrid at 0x1b3bc278700>"
      ]
     },
     "execution_count": 17,
     "metadata": {},
     "output_type": "execute_result"
    },
    {
     "data": {
      "image/png": "[encoded data removed]",
      "text/plain": [
       "<Figure size 720x720 with 20 Axes>"
      ]
     },
     "metadata": {
      "needs_background": "light"
     },
     "output_type": "display_data"
    }
   ],
   "source": [
    "sns.pairplot(df, )"
   ]
  },
  {
   "cell_type": "markdown",
   "id": "965ef3f7",
   "metadata": {},
   "source": [
    "To analyse Categorical variables, I will build count plot of all the variables"
   ]
  },
  {
   "cell_type": "code",
   "execution_count": 18,
   "id": "6a10ba9c",
   "metadata": {},
   "outputs": [
    {
     "data": {
      "image/png": "[encoded data removed]",
      "text/plain": [
       "<Figure size 576x720 with 3 Axes>"
      ]
     },
     "metadata": {
      "needs_background": "light"
     },
     "output_type": "display_data"
    }
   ],
   "source": [
    "df_categoric_features = df.select_dtypes(include='category')\n",
    "\n",
    "# plot the count distribution for each categorical variable \n",
    "# 'figsize' sets the figure size\n",
    "fig, ax = plt.subplots(3, 1, figsize=(8, 10))\n",
    "\n",
    "for variable, subplot in zip(df_categoric_features, ax.flatten()):\n",
    "    countplot = sns.countplot(x=df[variable], ax=subplot )\n",
    "    countplot.set_ylabel(variable, fontsize = 30)\n",
    "    \n",
    "# ax: specifies the axes object to draw the plot onto\n",
    "plt.tight_layout()   \n",
    "plt.show()\n",
    "\n",
    "        "
   ]
  },
  {
   "cell_type": "markdown",
   "id": "bc494ed5",
   "metadata": {},
   "source": [
    "From the above plot we see that:\n",
    "\n",
    "The number of males are females are nearly equal\n",
    "\n",
    "Also the number of non smokers is significantly large\n",
    "\n",
    "The different regions have distributed almost equally except the southeast which is slightly higher than all."
   ]
  },
  {
   "cell_type": "markdown",
   "id": "081c846c",
   "metadata": {},
   "source": [
    "Analyze Relationship Between Target and Categorical Variables using The box-and-whisker plot"
   ]
  },
  {
   "cell_type": "code",
   "execution_count": 19,
   "id": "f8dc1fc8",
   "metadata": {},
   "outputs": [
    {
     "data": {
      "image/png": "[encoded data removed]",
      "text/plain": [
       "<Figure size 1080x1080 with 3 Axes>"
      ]
     },
     "metadata": {
      "needs_background": "light"
     },
     "output_type": "display_data"
    }
   ],
   "source": [
    "fig, ax = plt.subplots(3, 1, figsize=(15, 15))\n",
    "for variable, subplot in zip(df_categoric_features, ax.flatten()):\n",
    "    boxplt = sns.boxplot(x=variable, y='charges', data=df, ax=subplot)\n",
    "    boxplt.set_xlabel(variable, fontsize = 30)\n",
    "plt.tight_layout()  \n"
   ]
  },
  {
   "cell_type": "markdown",
   "id": "be62d096",
   "metadata": {},
   "source": [
    "As we can see the means of the charges across the gender are nearly the same.\n",
    "\n",
    "The distribution of charges between the two categories, 'smoker' and 'non-smoker', are distinct enough to take smokers as a potentially good predictor of the charges amount.\n",
    "\n",
    "We can see that the median of charges across the region are nearly equal and but the southeast charges have been distributed largely compared to others. This might have happened becuase the number of samples for the southeast is more."
   ]
  },
  {
   "cell_type": "markdown",
   "id": "70e2e31b",
   "metadata": {},
   "source": [
    "In order to detect outliers in numerical data, we perform the following:\n",
    "\n",
    "                1. Plot boxplot for numerical data\n",
    "\n",
    "                2. Note the variables for which outliers are present\n",
    "\n",
    "                3. Remove outliers by IQR method\n",
    "\n",
    "                4. Plot boxplot to recheck for outliers"
   ]
  },
  {
   "cell_type": "code",
   "execution_count": 20,
   "id": "97b35ffa",
   "metadata": {},
   "outputs": [
    {
     "data": {
      "image/png": "[encoded data removed]",
      "text/plain": [
       "<Figure size 288x144 with 1 Axes>"
      ]
     },
     "metadata": {
      "needs_background": "light"
     },
     "output_type": "display_data"
    },
    {
     "name": "stdout",
     "output_type": "stream",
     "text": [
      "********************************************\n"
     ]
    },
    {
     "data": {
      "image/png": "[encoded data removed]",
      "text/plain": [
       "<Figure size 288x144 with 1 Axes>"
      ]
     },
     "metadata": {
      "needs_background": "light"
     },
     "output_type": "display_data"
    },
    {
     "name": "stdout",
     "output_type": "stream",
     "text": [
      "********************************************\n"
     ]
    },
    {
     "data": {
      "image/png": "[encoded data removed]",
      "text/plain": [
       "<Figure size 288x144 with 1 Axes>"
      ]
     },
     "metadata": {
      "needs_background": "light"
     },
     "output_type": "display_data"
    },
    {
     "name": "stdout",
     "output_type": "stream",
     "text": [
      "********************************************\n"
     ]
    },
    {
     "data": {
      "image/png": "[encoded data removed]",
      "text/plain": [
       "<Figure size 288x144 with 1 Axes>"
      ]
     },
     "metadata": {
      "needs_background": "light"
     },
     "output_type": "display_data"
    },
    {
     "name": "stdout",
     "output_type": "stream",
     "text": [
      "********************************************\n"
     ]
    }
   ],
   "source": [
    "for var in df_numeric_features.columns:\n",
    "    plt.figure(figsize=(4,2))\n",
    "    sns.boxplot(df[var])\n",
    "    plt.show()\n",
    "    \n",
    "    print('***********'*4)"
   ]
  },
  {
   "cell_type": "markdown",
   "id": "799c2396",
   "metadata": {},
   "source": [
    "As we do not have sufficient data to analyze and train the model with a large sample, we are not going to remove the outliers. If needed we will transform the variables down the line."
   ]
  },
  {
   "cell_type": "markdown",
   "id": "761112b5",
   "metadata": {},
   "source": [
    "# Data preprocessing"
   ]
  },
  {
   "cell_type": "markdown",
   "id": "e76a68db",
   "metadata": {},
   "source": [
    "As per the assumptions of linear regression, residuals (actual values - predicted values) should be normally distributed. If the target variable is normally distributed then the residuals are also normally distributed, thus we check the normality only for target variable"
   ]
  },
  {
   "cell_type": "markdown",
   "id": "038e79c0",
   "metadata": {},
   "source": [
    "In order to check for normality of our target variable,\n",
    "\n",
    "Plot a histogram and also perform the Jarque-Bera test\n",
    "\n",
    "If the data is not normally distributed, use log transformation to get near normally distributed data\n",
    "\n",
    "Recheck for normality by plotting histogram and performing Jarque-Bera test"
   ]
  },
  {
   "cell_type": "code",
   "execution_count": 23,
   "id": "fd977e17",
   "metadata": {},
   "outputs": [],
   "source": [
    "# 'SciPy' is used to perform scientific computations\n",
    "from scipy.stats import f_oneway\n",
    "from scipy.stats import jarque_bera\n",
    "from scipy import stats"
   ]
  },
  {
   "cell_type": "code",
   "execution_count": 24,
   "id": "73766b8d",
   "metadata": {},
   "outputs": [
    {
     "data": {
      "image/png": "[encoded data removed]",
      "text/plain": [
       "<Figure size 432x288 with 1 Axes>"
      ]
     },
     "metadata": {
      "needs_background": "light"
     },
     "output_type": "display_data"
    }
   ],
   "source": [
    "# check the distribution of target variable using hist()\n",
    "df.charges.hist()\n",
    "\n",
    "# display the plot\n",
    "plt.show()"
   ]
  },
  {
   "cell_type": "markdown",
   "id": "c41435d2",
   "metadata": {},
   "source": [
    "From the above plot, we can notice that the variable 'charges' is heavily right skewed and not normally distributed"
   ]
  },
  {
   "cell_type": "markdown",
   "id": "568c3268",
   "metadata": {},
   "source": [
    "The null and alternate hypothesis of Jarque-Bera and shapiro test are as follows:\n",
    "\n",
    "H0: The data is normally distributed\n",
    "H1: The data is not normally distributed"
   ]
  },
  {
   "cell_type": "code",
   "execution_count": 25,
   "id": "61ebf2e1",
   "metadata": {},
   "outputs": [
    {
     "name": "stdout",
     "output_type": "stream",
     "text": [
      "Statistics=0.815, p-value=0.000\n",
      "The data is not normally distributed (reject H0)\n"
     ]
    }
   ],
   "source": [
    "stat, p = stats.shapiro(df[\"charges\"])\n",
    "print('Statistics=%.3f, p-value=%.3f' % (stat, p))\n",
    "alpha = 0.05\n",
    "if p > alpha:\n",
    "    print('The data is normally distributed (fail to reject H0)')\n",
    "else:\n",
    "    print('The data is not normally distributed (reject H0)')"
   ]
  },
  {
   "cell_type": "markdown",
   "id": "bc7bfec0",
   "metadata": {},
   "source": [
    "Now we opt for log transformation in order to reduce the skewness. We will log transform the claim variable."
   ]
  },
  {
   "cell_type": "code",
   "execution_count": 41,
   "id": "c4103b29",
   "metadata": {},
   "outputs": [],
   "source": [
    "# log transformation for normality using np.log()\n",
    "df['log_charges'] = np.log(df['charges'])"
   ]
  },
  {
   "cell_type": "code",
   "execution_count": 27,
   "id": "0e1c92c9",
   "metadata": {},
   "outputs": [
    {
     "data": {
      "image/png": "[encoded data removed]",
      "text/plain": [
       "<Figure size 432x288 with 1 Axes>"
      ]
     },
     "metadata": {
      "needs_background": "light"
     },
     "output_type": "display_data"
    }
   ],
   "source": [
    "# plot the histogram using hist\n",
    "df.log_charges.hist()\n",
    "\n",
    "# display the plot\n",
    "plt.show()"
   ]
  },
  {
   "cell_type": "markdown",
   "id": "20528176",
   "metadata": {},
   "source": [
    "Perform One-Way ANOVA to compare two means from two independent (unrelated) groups. For example, we apply ANOVA to see whether the mean of charges is significantly different across gender."
   ]
  },
  {
   "cell_type": "markdown",
   "id": "1df5d827",
   "metadata": {},
   "source": [
    "The null and alternate hypothesis of one-way anova are as follows:\n",
    "\n",
    "H0: Population means all are equal\n",
    "H1: Population means are not all equal"
   ]
  },
  {
   "cell_type": "code",
   "execution_count": 28,
   "id": "1c839d99",
   "metadata": {},
   "outputs": [
    {
     "data": {
      "text/plain": [
       "F_onewayResult(statistic=4.3997016974374565, pvalue=0.03613272100596256)"
      ]
     },
     "execution_count": 28,
     "metadata": {},
     "output_type": "execute_result"
    }
   ],
   "source": [
    "# perform one way anova for sex on claim using f_oneway()\n",
    "f_oneway(df['charges'][df['sex'] == 'male'], \n",
    "             df['charges'][df['sex'] == 'female'])"
   ]
  },
  {
   "cell_type": "markdown",
   "id": "9fa6d0fc",
   "metadata": {},
   "source": [
    "The OLS method fails to perform in presence of categorical variables. To overcome this we use dummy encoding."
   ]
  },
  {
   "cell_type": "markdown",
   "id": "ebb272bb",
   "metadata": {},
   "source": [
    " 1. Filter numerical and categorical variables\n",
    "\n",
    " 2. Dummy encode the catergorical variables\n",
    "\n",
    "3. Concatenate numerical and dummy encoded categorical variables"
   ]
  },
  {
   "cell_type": "code",
   "execution_count": 29,
   "id": "6be75fcd",
   "metadata": {},
   "outputs": [],
   "source": [
    "for col in df_categoric_features.columns.values:\n",
    "    dummy_encoded_variables = pd.get_dummies(df_categoric_features[col], prefix=col, drop_first=True)\n",
    "    df_categoric_features = pd.concat([df_categoric_features, dummy_encoded_variables],axis=1)\n",
    "    df_categoric_features.drop([col], axis=1, inplace=True)\n",
    "    "
   ]
  },
  {
   "cell_type": "code",
   "execution_count": 30,
   "id": "041c7f52",
   "metadata": {},
   "outputs": [],
   "source": [
    "df_dummy = pd.concat([df_numeric_features, df_categoric_features], axis=1)"
   ]
  },
  {
   "cell_type": "code",
   "execution_count": 31,
   "id": "f7521478",
   "metadata": {},
   "outputs": [
    {
     "data": {
      "text/html": [
       "<div>\n",
       "<style scoped>\n",
       "    .dataframe tbody tr th:only-of-type {\n",
       "        vertical-align: middle;\n",
       "    }\n",
       "\n",
       "    .dataframe tbody tr th {\n",
       "        vertical-align: top;\n",
       "    }\n",
       "\n",
       "    .dataframe thead th {\n",
       "        text-align: right;\n",
       "    }\n",
       "</style>\n",
       "<table border=\"1\" class=\"dataframe\">\n",
       "  <thead>\n",
       "    <tr style=\"text-align: right;\">\n",
       "      <th></th>\n",
       "      <th>age</th>\n",
       "      <th>bmi</th>\n",
       "      <th>children</th>\n",
       "      <th>charges</th>\n",
       "      <th>sex_male</th>\n",
       "      <th>smoker_yes</th>\n",
       "      <th>region_northwest</th>\n",
       "      <th>region_southeast</th>\n",
       "      <th>region_southwest</th>\n",
       "    </tr>\n",
       "  </thead>\n",
       "  <tbody>\n",
       "    <tr>\n",
       "      <th>0</th>\n",
       "      <td>19</td>\n",
       "      <td>27.900</td>\n",
       "      <td>0</td>\n",
       "      <td>16884.92400</td>\n",
       "      <td>0</td>\n",
       "      <td>1</td>\n",
       "      <td>0</td>\n",
       "      <td>0</td>\n",
       "      <td>1</td>\n",
       "    </tr>\n",
       "    <tr>\n",
       "      <th>1</th>\n",
       "      <td>18</td>\n",
       "      <td>33.770</td>\n",
       "      <td>1</td>\n",
       "      <td>1725.55230</td>\n",
       "      <td>1</td>\n",
       "      <td>0</td>\n",
       "      <td>0</td>\n",
       "      <td>1</td>\n",
       "      <td>0</td>\n",
       "    </tr>\n",
       "    <tr>\n",
       "      <th>2</th>\n",
       "      <td>28</td>\n",
       "      <td>33.000</td>\n",
       "      <td>3</td>\n",
       "      <td>4449.46200</td>\n",
       "      <td>1</td>\n",
       "      <td>0</td>\n",
       "      <td>0</td>\n",
       "      <td>1</td>\n",
       "      <td>0</td>\n",
       "    </tr>\n",
       "    <tr>\n",
       "      <th>3</th>\n",
       "      <td>33</td>\n",
       "      <td>22.705</td>\n",
       "      <td>0</td>\n",
       "      <td>21984.47061</td>\n",
       "      <td>1</td>\n",
       "      <td>0</td>\n",
       "      <td>1</td>\n",
       "      <td>0</td>\n",
       "      <td>0</td>\n",
       "    </tr>\n",
       "    <tr>\n",
       "      <th>4</th>\n",
       "      <td>32</td>\n",
       "      <td>28.880</td>\n",
       "      <td>0</td>\n",
       "      <td>3866.85520</td>\n",
       "      <td>1</td>\n",
       "      <td>0</td>\n",
       "      <td>1</td>\n",
       "      <td>0</td>\n",
       "      <td>0</td>\n",
       "    </tr>\n",
       "  </tbody>\n",
       "</table>\n",
       "</div>"
      ],
      "text/plain": [
       "   age     bmi  children      charges  sex_male  smoker_yes  region_northwest  \\\n",
       "0   19  27.900         0  16884.92400         0           1                 0   \n",
       "1   18  33.770         1   1725.55230         1           0                 0   \n",
       "2   28  33.000         3   4449.46200         1           0                 0   \n",
       "3   33  22.705         0  21984.47061         1           0                 1   \n",
       "4   32  28.880         0   3866.85520         1           0                 1   \n",
       "\n",
       "   region_southeast  region_southwest  \n",
       "0                 0                 1  \n",
       "1                 1                 0  \n",
       "2                 1                 0  \n",
       "3                 0                 0  \n",
       "4                 0                 0  "
      ]
     },
     "execution_count": 31,
     "metadata": {},
     "output_type": "execute_result"
    }
   ],
   "source": [
    "df_dummy.head()"
   ]
  },
  {
   "cell_type": "markdown",
   "id": "d3a2cf92",
   "metadata": {},
   "source": [
    "# Model selection and training"
   ]
  },
  {
   "cell_type": "code",
   "execution_count": null,
   "id": "150ea0e1",
   "metadata": {},
   "outputs": [],
   "source": [
    "#build a simple Linear model with linear regression using OLS (Ordinary Least Square) technique."
   ]
  },
  {
   "cell_type": "code",
   "execution_count": 33,
   "id": "05489ab1",
   "metadata": {},
   "outputs": [],
   "source": [
    "# 'Statsmodels' is used to build and analyze various statistical models\n",
    "import statsmodels\n",
    "import statsmodels.api as sm\n",
    "import statsmodels.stats.api as sms\n",
    "from statsmodels.tools.eval_measures import rmse\n",
    "from statsmodels.compat import lzip\n",
    "from statsmodels.graphics.gofplots import ProbPlot"
   ]
  },
  {
   "cell_type": "code",
   "execution_count": 34,
   "id": "492a475a",
   "metadata": {},
   "outputs": [],
   "source": [
    "X = sm.add_constant(df_dummy.age)\n",
    "y = df_dummy.charges"
   ]
  },
  {
   "cell_type": "code",
   "execution_count": 35,
   "id": "dc086545",
   "metadata": {},
   "outputs": [
    {
     "name": "stdout",
     "output_type": "stream",
     "text": [
      "                            OLS Regression Results                            \n",
      "==============================================================================\n",
      "Dep. Variable:                charges   R-squared:                       0.089\n",
      "Model:                            OLS   Adj. R-squared:                  0.089\n",
      "Method:                 Least Squares   F-statistic:                     131.2\n",
      "Date:                Sun, 19 Nov 2023   Prob (F-statistic):           4.89e-29\n",
      "Time:                        16:53:53   Log-Likelihood:                -14415.\n",
      "No. Observations:                1338   AIC:                         2.883e+04\n",
      "Df Residuals:                    1336   BIC:                         2.884e+04\n",
      "Df Model:                           1                                         \n",
      "Covariance Type:            nonrobust                                         \n",
      "==============================================================================\n",
      "                 coef    std err          t      P>|t|      [0.025      0.975]\n",
      "------------------------------------------------------------------------------\n",
      "const       3165.8850    937.149      3.378      0.001    1327.440    5004.330\n",
      "age          257.7226     22.502     11.453      0.000     213.579     301.866\n",
      "==============================================================================\n",
      "Omnibus:                      399.600   Durbin-Watson:                   2.033\n",
      "Prob(Omnibus):                  0.000   Jarque-Bera (JB):              864.239\n",
      "Skew:                           1.733   Prob(JB):                    2.15e-188\n",
      "Kurtosis:                       4.869   Cond. No.                         124.\n",
      "==============================================================================\n",
      "\n",
      "Notes:\n",
      "[1] Standard Errors assume that the covariance matrix of the errors is correctly specified.\n"
     ]
    }
   ],
   "source": [
    "# build a model using OLS()\n",
    "SLR = sm.OLS(y, X).fit()\n",
    "\n",
    "# print the summary output\n",
    "print(SLR.summary())"
   ]
  },
  {
   "cell_type": "markdown",
   "id": "62776372",
   "metadata": {},
   "source": [
    "This model explains 0.89% of the variation in the dependent variable claim. The Durbin-Watson test statistics is 2.033 and indicates that there is no autocorrelation. The p-value of the JB test is nearly 0 and indicates that residuals are not normally distributed."
   ]
  },
  {
   "cell_type": "code",
   "execution_count": 43,
   "id": "57a5613c",
   "metadata": {},
   "outputs": [
    {
     "data": {
      "text/html": [
       "<div>\n",
       "<style scoped>\n",
       "    .dataframe tbody tr th:only-of-type {\n",
       "        vertical-align: middle;\n",
       "    }\n",
       "\n",
       "    .dataframe tbody tr th {\n",
       "        vertical-align: top;\n",
       "    }\n",
       "\n",
       "    .dataframe thead th {\n",
       "        text-align: right;\n",
       "    }\n",
       "</style>\n",
       "<table border=\"1\" class=\"dataframe\">\n",
       "  <thead>\n",
       "    <tr style=\"text-align: right;\">\n",
       "      <th></th>\n",
       "      <th>const</th>\n",
       "      <th>age</th>\n",
       "      <th>bmi</th>\n",
       "      <th>children</th>\n",
       "      <th>charges</th>\n",
       "      <th>sex_male</th>\n",
       "      <th>smoker_yes</th>\n",
       "      <th>region_northwest</th>\n",
       "      <th>region_southeast</th>\n",
       "      <th>region_southwest</th>\n",
       "    </tr>\n",
       "  </thead>\n",
       "  <tbody>\n",
       "    <tr>\n",
       "      <th>0</th>\n",
       "      <td>1.0</td>\n",
       "      <td>19</td>\n",
       "      <td>27.9</td>\n",
       "      <td>0</td>\n",
       "      <td>16884.924</td>\n",
       "      <td>0</td>\n",
       "      <td>1</td>\n",
       "      <td>0</td>\n",
       "      <td>0</td>\n",
       "      <td>1</td>\n",
       "    </tr>\n",
       "  </tbody>\n",
       "</table>\n",
       "</div>"
      ],
      "text/plain": [
       "   const  age   bmi  children    charges  sex_male  smoker_yes  \\\n",
       "0    1.0   19  27.9         0  16884.924         0           1   \n",
       "\n",
       "   region_northwest  region_southeast  region_southwest  \n",
       "0                 0                 0                 1  "
      ]
     },
     "execution_count": 43,
     "metadata": {},
     "output_type": "execute_result"
    }
   ],
   "source": [
    "#build a full Linear model with linear regression using OLS (Ordinary Least Square) technique.\n",
    "df_dummy.head(1)"
   ]
  },
  {
   "cell_type": "code",
   "execution_count": 45,
   "id": "edf5596a",
   "metadata": {},
   "outputs": [],
   "source": [
    "df_dummy['log_charges'] = np.log(df_dummy['charges'])"
   ]
  },
  {
   "cell_type": "code",
   "execution_count": 46,
   "id": "87f4fd77",
   "metadata": {},
   "outputs": [],
   "source": [
    "# add the intercept column to the dataset\n",
    "df_dummy = sm.add_constant(df_dummy)\n",
    "\n",
    "X = df_dummy.drop(['charges','log_charges'], axis=1)\n",
    "\n",
    "y = df_dummy[['log_charges','charges']]"
   ]
  },
  {
   "cell_type": "code",
   "execution_count": 47,
   "id": "9be0d087",
   "metadata": {},
   "outputs": [],
   "source": [
    "from sklearn.model_selection import train_test_split\n",
    "X_train, X_test, y_train, y_test = train_test_split(X, y, random_state=1)"
   ]
  },
  {
   "cell_type": "code",
   "execution_count": 48,
   "id": "c18fa8ad",
   "metadata": {},
   "outputs": [
    {
     "name": "stdout",
     "output_type": "stream",
     "text": [
      "                            OLS Regression Results                            \n",
      "==============================================================================\n",
      "Dep. Variable:            log_charges   R-squared:                       0.763\n",
      "Model:                            OLS   Adj. R-squared:                  0.761\n",
      "Method:                 Least Squares   F-statistic:                     399.8\n",
      "Date:                Sun, 19 Nov 2023   Prob (F-statistic):          1.96e-304\n",
      "Time:                        17:26:53   Log-Likelihood:                -618.13\n",
      "No. Observations:                1003   AIC:                             1254.\n",
      "Df Residuals:                     994   BIC:                             1298.\n",
      "Df Model:                           8                                         \n",
      "Covariance Type:            nonrobust                                         \n",
      "====================================================================================\n",
      "                       coef    std err          t      P>|t|      [0.025      0.975]\n",
      "------------------------------------------------------------------------------------\n",
      "const                7.0775      0.084     84.177      0.000       6.912       7.242\n",
      "age                  0.0336      0.001     32.796      0.000       0.032       0.036\n",
      "bmi                  0.0135      0.002      5.520      0.000       0.009       0.018\n",
      "children             0.0938      0.012      7.986      0.000       0.071       0.117\n",
      "sex_male            -0.0857      0.029     -2.997      0.003      -0.142      -0.030\n",
      "smoker_yes           1.5623      0.035     44.660      0.000       1.494       1.631\n",
      "region_northwest    -0.0520      0.041     -1.265      0.206      -0.133       0.029\n",
      "region_southeast    -0.1497      0.041     -3.619      0.000      -0.231      -0.069\n",
      "region_southwest    -0.1201      0.041     -2.938      0.003      -0.200      -0.040\n",
      "==============================================================================\n",
      "Omnibus:                      340.263   Durbin-Watson:                   1.986\n",
      "Prob(Omnibus):                  0.000   Jarque-Bera (JB):             1147.449\n",
      "Skew:                           1.648   Prob(JB):                    6.83e-250\n",
      "Kurtosis:                       7.073   Cond. No.                         308.\n",
      "==============================================================================\n",
      "\n",
      "Notes:\n",
      "[1] Standard Errors assume that the covariance matrix of the errors is correctly specified.\n"
     ]
    }
   ],
   "source": [
    "linreg_full_model_withlog = sm.OLS(y_train['log_charges'], X_train).fit()\n",
    "\n",
    "# print the summary output\n",
    "print(linreg_full_model_withlog.summary())"
   ]
  },
  {
   "cell_type": "markdown",
   "id": "1c32bbdf",
   "metadata": {},
   "source": [
    "**This model explains 76.4% of the variation in the dependent variable charges. we can also see that Adjusted R2 is close to R2 which tells us that variables might not insignificant. The Durbin-Watson test statistics is 2.046 and indicates that there is no autocorrelation. Condition Number 311 suggests that there is no much multicollinearity. But the Jarque bera test says that errors are not normally distributed."
   ]
  },
  {
   "cell_type": "code",
   "execution_count": 44,
   "id": "522e2397",
   "metadata": {},
   "outputs": [],
   "source": [
    "score_card = pd.DataFrame(columns=['Model_Name', 'R-Squared', 'Adj. R-Squared', 'RMSE'])\n"
   ]
  },
  {
   "cell_type": "code",
   "execution_count": 49,
   "id": "b823134e",
   "metadata": {},
   "outputs": [
    {
     "data": {
      "text/html": [
       "<div>\n",
       "<style scoped>\n",
       "    .dataframe tbody tr th:only-of-type {\n",
       "        vertical-align: middle;\n",
       "    }\n",
       "\n",
       "    .dataframe tbody tr th {\n",
       "        vertical-align: top;\n",
       "    }\n",
       "\n",
       "    .dataframe thead th {\n",
       "        text-align: right;\n",
       "    }\n",
       "</style>\n",
       "<table border=\"1\" class=\"dataframe\">\n",
       "  <thead>\n",
       "    <tr style=\"text-align: right;\">\n",
       "      <th></th>\n",
       "      <th>P-Value</th>\n",
       "    </tr>\n",
       "  </thead>\n",
       "  <tbody>\n",
       "    <tr>\n",
       "      <th>const</th>\n",
       "      <td>0.000000e+00</td>\n",
       "    </tr>\n",
       "    <tr>\n",
       "      <th>age</th>\n",
       "      <td>1.801052e-160</td>\n",
       "    </tr>\n",
       "    <tr>\n",
       "      <th>bmi</th>\n",
       "      <td>4.336398e-08</td>\n",
       "    </tr>\n",
       "    <tr>\n",
       "      <th>children</th>\n",
       "      <td>3.835412e-15</td>\n",
       "    </tr>\n",
       "    <tr>\n",
       "      <th>sex_male</th>\n",
       "      <td>2.790516e-03</td>\n",
       "    </tr>\n",
       "    <tr>\n",
       "      <th>smoker_yes</th>\n",
       "      <td>7.729371e-240</td>\n",
       "    </tr>\n",
       "    <tr>\n",
       "      <th>region_northwest</th>\n",
       "      <td>2.061770e-01</td>\n",
       "    </tr>\n",
       "    <tr>\n",
       "      <th>region_southeast</th>\n",
       "      <td>3.111734e-04</td>\n",
       "    </tr>\n",
       "    <tr>\n",
       "      <th>region_southwest</th>\n",
       "      <td>3.375068e-03</td>\n",
       "    </tr>\n",
       "  </tbody>\n",
       "</table>\n",
       "</div>"
      ],
      "text/plain": [
       "                        P-Value\n",
       "const              0.000000e+00\n",
       "age               1.801052e-160\n",
       "bmi                4.336398e-08\n",
       "children           3.835412e-15\n",
       "sex_male           2.790516e-03\n",
       "smoker_yes        7.729371e-240\n",
       "region_northwest   2.061770e-01\n",
       "region_southeast   3.111734e-04\n",
       "region_southwest   3.375068e-03"
      ]
     },
     "execution_count": 49,
     "metadata": {},
     "output_type": "execute_result"
    }
   ],
   "source": [
    "# calculate the p-values for all the variables\n",
    "\n",
    "linreg_full_model_withlog_pvalues = pd.DataFrame(linreg_full_model_withlog.pvalues, columns=[\"P-Value\"])\n",
    "\n",
    "# print the values\n",
    "linreg_full_model_withlog_pvalues"
   ]
  },
  {
   "cell_type": "code",
   "execution_count": 53,
   "id": "19ec0850",
   "metadata": {},
   "outputs": [
    {
     "data": {
      "text/plain": [
       "['region_northwest']"
      ]
     },
     "execution_count": 53,
     "metadata": {},
     "output_type": "execute_result"
    }
   ],
   "source": [
    "insignificant_variabless = linreg_full_model_withlog_pvalues[\n",
    "                                                        linreg_full_model_withlog_pvalues['P-Value']  > 0.05]\n",
    "\n",
    "# get the position of a specified value\n",
    "insigni_varr = insignificant_variabless.index\n",
    "\n",
    "# convert the list of variables to 'list' type\n",
    "insigni_varr = insigni_varr.to_list()\n",
    "\n",
    "# get the list of insignificant variables\n",
    "insigni_varr"
   ]
  },
  {
   "cell_type": "code",
   "execution_count": 50,
   "id": "df778762",
   "metadata": {},
   "outputs": [
    {
     "name": "stdout",
     "output_type": "stream",
     "text": [
      "                            OLS Regression Results                            \n",
      "==============================================================================\n",
      "Dep. Variable:                charges   R-squared:                       0.755\n",
      "Model:                            OLS   Adj. R-squared:                  0.753\n",
      "Method:                 Least Squares   F-statistic:                     383.5\n",
      "Date:                Sun, 19 Nov 2023   Prob (F-statistic):          1.23e-297\n",
      "Time:                        17:29:55   Log-Likelihood:                -10160.\n",
      "No. Observations:                1003   AIC:                         2.034e+04\n",
      "Df Residuals:                     994   BIC:                         2.038e+04\n",
      "Df Model:                           8                                         \n",
      "Covariance Type:            nonrobust                                         \n",
      "====================================================================================\n",
      "                       coef    std err          t      P>|t|      [0.025      0.975]\n",
      "------------------------------------------------------------------------------------\n",
      "const            -1.121e+04   1138.444     -9.845      0.000   -1.34e+04   -8974.508\n",
      "age                251.6437     13.878     18.133      0.000     224.411     278.877\n",
      "bmi                323.5535     33.053      9.789      0.000     258.692     388.415\n",
      "children           358.2986    159.035      2.253      0.024      46.216     670.381\n",
      "sex_male          -269.1742    386.922     -0.696      0.487   -1028.452     490.104\n",
      "smoker_yes        2.409e+04    473.652     50.862      0.000    2.32e+04     2.5e+04\n",
      "region_northwest  -240.1607    556.677     -0.431      0.666   -1332.557     852.236\n",
      "region_southeast  -867.8504    560.049     -1.550      0.122   -1966.865     231.164\n",
      "region_southwest  -672.1612    553.466     -1.214      0.225   -1758.258     413.935\n",
      "==============================================================================\n",
      "Omnibus:                      214.184   Durbin-Watson:                   1.971\n",
      "Prob(Omnibus):                  0.000   Jarque-Bera (JB):              492.925\n",
      "Skew:                           1.157   Prob(JB):                    9.18e-108\n",
      "Kurtosis:                       5.538   Cond. No.                         308.\n",
      "==============================================================================\n",
      "\n",
      "Notes:\n",
      "[1] Standard Errors assume that the covariance matrix of the errors is correctly specified.\n"
     ]
    }
   ],
   "source": [
    "#linreg_full_model_withoutlog\n",
    "linreg_full_model_withoutlog = sm.OLS(y_train['charges'], X_train).fit()\n",
    "print(linreg_full_model_withoutlog.summary())"
   ]
  },
  {
   "cell_type": "markdown",
   "id": "cdbbaac8",
   "metadata": {},
   "source": [
    "**As we can see that the R2 is 0.755 and the Adjusted R2 is 0.753, which means that the model explains about 75% variation in the dependent variable. And we can see that the R2 and the Adjust R2 is slightly descreased but nor a significant drop. And we can see that p-value of the F stats is less than 0.05 which means the model is significant."
   ]
  },
  {
   "cell_type": "code",
   "execution_count": 51,
   "id": "c47bc137",
   "metadata": {},
   "outputs": [
    {
     "data": {
      "text/html": [
       "<div>\n",
       "<style scoped>\n",
       "    .dataframe tbody tr th:only-of-type {\n",
       "        vertical-align: middle;\n",
       "    }\n",
       "\n",
       "    .dataframe tbody tr th {\n",
       "        vertical-align: top;\n",
       "    }\n",
       "\n",
       "    .dataframe thead th {\n",
       "        text-align: right;\n",
       "    }\n",
       "</style>\n",
       "<table border=\"1\" class=\"dataframe\">\n",
       "  <thead>\n",
       "    <tr style=\"text-align: right;\">\n",
       "      <th></th>\n",
       "      <th>P-Value</th>\n",
       "    </tr>\n",
       "  </thead>\n",
       "  <tbody>\n",
       "    <tr>\n",
       "      <th>const</th>\n",
       "      <td>6.913282e-22</td>\n",
       "    </tr>\n",
       "    <tr>\n",
       "      <th>age</th>\n",
       "      <td>1.051488e-63</td>\n",
       "    </tr>\n",
       "    <tr>\n",
       "      <th>bmi</th>\n",
       "      <td>1.153134e-21</td>\n",
       "    </tr>\n",
       "    <tr>\n",
       "      <th>children</th>\n",
       "      <td>2.447908e-02</td>\n",
       "    </tr>\n",
       "    <tr>\n",
       "      <th>sex_male</th>\n",
       "      <td>4.867917e-01</td>\n",
       "    </tr>\n",
       "    <tr>\n",
       "      <th>smoker_yes</th>\n",
       "      <td>6.870848e-279</td>\n",
       "    </tr>\n",
       "    <tr>\n",
       "      <th>region_northwest</th>\n",
       "      <td>6.662576e-01</td>\n",
       "    </tr>\n",
       "    <tr>\n",
       "      <th>region_southeast</th>\n",
       "      <td>1.215568e-01</td>\n",
       "    </tr>\n",
       "    <tr>\n",
       "      <th>region_southwest</th>\n",
       "      <td>2.248616e-01</td>\n",
       "    </tr>\n",
       "  </tbody>\n",
       "</table>\n",
       "</div>"
      ],
      "text/plain": [
       "                        P-Value\n",
       "const              6.913282e-22\n",
       "age                1.051488e-63\n",
       "bmi                1.153134e-21\n",
       "children           2.447908e-02\n",
       "sex_male           4.867917e-01\n",
       "smoker_yes        6.870848e-279\n",
       "region_northwest   6.662576e-01\n",
       "region_southeast   1.215568e-01\n",
       "region_southwest   2.248616e-01"
      ]
     },
     "execution_count": 51,
     "metadata": {},
     "output_type": "execute_result"
    }
   ],
   "source": [
    "linreg_full_model_withoutlog_pvalues = pd.DataFrame(linreg_full_model_withoutlog.pvalues, columns=[\"P-Value\"])\n",
    "\n",
    "# print the values\n",
    "linreg_full_model_withoutlog_pvalues"
   ]
  },
  {
   "cell_type": "code",
   "execution_count": 52,
   "id": "f250a9ef",
   "metadata": {},
   "outputs": [
    {
     "data": {
      "text/plain": [
       "['sex_male', 'region_northwest', 'region_southeast', 'region_southwest']"
      ]
     },
     "execution_count": 52,
     "metadata": {},
     "output_type": "execute_result"
    }
   ],
   "source": [
    "insignificant_variables = linreg_full_model_withoutlog_pvalues[\n",
    "                                                        linreg_full_model_withoutlog_pvalues['P-Value']  > 0.05]\n",
    "\n",
    "# get the position of a specified value\n",
    "insigni_var = insignificant_variables.index\n",
    "\n",
    "# convert the list of variables to 'list' type\n",
    "insigni_var = insigni_var.to_list()\n",
    "\n",
    "# get the list of insignificant variables\n",
    "insigni_var"
   ]
  },
  {
   "cell_type": "code",
   "execution_count": null,
   "id": "3fbcd30b",
   "metadata": {},
   "outputs": [],
   "source": [
    "# num of insigni variables decreased when we performed log transformation"
   ]
  },
  {
   "cell_type": "code",
   "execution_count": 54,
   "id": "f0f4c9f4",
   "metadata": {},
   "outputs": [],
   "source": [
    "# evaluate the model\n",
    "# predict the charges using predict()\n",
    "predicted_claim = linreg_full_model_withoutlog.predict(X_test)\n",
    "\n",
    "# extract the 'charges' values from the test data\n",
    "actual_claim = y_test['charges']"
   ]
  },
  {
   "cell_type": "code",
   "execution_count": 55,
   "id": "60a7692f",
   "metadata": {},
   "outputs": [],
   "source": [
    "from sklearn.metrics import mean_squared_error, mean_absolute_error, r2_score"
   ]
  },
  {
   "cell_type": "code",
   "execution_count": 56,
   "id": "52950036",
   "metadata": {},
   "outputs": [],
   "source": [
    "# calculate rmse using rmse()\n",
    "linreg_full_model_withoutlog_rmse = rmse(actual_claim, predicted_claim)\n",
    "\n",
    "# calculate R-squared using rsquared\n",
    "linreg_full_model_withoutlog_rsquared = linreg_full_model_withoutlog.rsquared\n",
    "\n",
    "# calculate Adjusted R-Squared using rsquared_adj\n",
    "linreg_full_model_withoutlog_rsquared_adj = linreg_full_model_withoutlog.rsquared_adj "
   ]
  },
  {
   "cell_type": "code",
   "execution_count": 57,
   "id": "442f510a",
   "metadata": {},
   "outputs": [],
   "source": [
    "linreg_full_model_withoutlog_metrics = pd.Series({\n",
    "                     'Model_Name': \"Linreg full model without log of target variable\",\n",
    "                     'RMSE':linreg_full_model_withoutlog_rmse,\n",
    "                     'R-Squared': linreg_full_model_withoutlog_rsquared,\n",
    "                     'Adj. R-Squared': linreg_full_model_withoutlog_rsquared_adj     \n",
    "                   })"
   ]
  },
  {
   "cell_type": "code",
   "execution_count": 58,
   "id": "b379016e",
   "metadata": {},
   "outputs": [],
   "source": [
    "score_card = score_card.append(linreg_full_model_withoutlog_metrics, ignore_index=True)\n"
   ]
  },
  {
   "cell_type": "code",
   "execution_count": 59,
   "id": "75e43479",
   "metadata": {},
   "outputs": [],
   "source": [
    "# calculate rmse using rmse()\n",
    "linreg_full_model_withlog_rmse = rmse(actual_claim, predicted_claim)\n",
    "\n",
    "# calculate R-squared using rsquared\n",
    "linreg_full_model_withlog_rsquared = linreg_full_model_withlog.rsquared\n",
    "\n",
    "# calculate Adjusted R-Squared using rsquared_adj\n",
    "linreg_full_model_withlog_rsquared_adj = linreg_full_model_withlog.rsquared_adj \n",
    "\n",
    "linreg_full_model_withlog_metrics = pd.Series({\n",
    "                     'Model_Name': \"Linreg full model with log of target variable\",\n",
    "                     'RMSE':linreg_full_model_withlog_rmse,\n",
    "                     'R-Squared': linreg_full_model_withlog_rsquared,\n",
    "                     'Adj. R-Squared': linreg_full_model_withlog_rsquared_adj     \n",
    "                   })\n",
    "\n",
    "score_card = score_card.append(linreg_full_model_withlog_metrics, ignore_index=True)\n"
   ]
  },
  {
   "cell_type": "code",
   "execution_count": 60,
   "id": "fd0616dc",
   "metadata": {},
   "outputs": [
    {
     "data": {
      "text/html": [
       "<div>\n",
       "<style scoped>\n",
       "    .dataframe tbody tr th:only-of-type {\n",
       "        vertical-align: middle;\n",
       "    }\n",
       "\n",
       "    .dataframe tbody tr th {\n",
       "        vertical-align: top;\n",
       "    }\n",
       "\n",
       "    .dataframe thead th {\n",
       "        text-align: right;\n",
       "    }\n",
       "</style>\n",
       "<table border=\"1\" class=\"dataframe\">\n",
       "  <thead>\n",
       "    <tr style=\"text-align: right;\">\n",
       "      <th></th>\n",
       "      <th>Model_Name</th>\n",
       "      <th>R-Squared</th>\n",
       "      <th>Adj. R-Squared</th>\n",
       "      <th>RMSE</th>\n",
       "    </tr>\n",
       "  </thead>\n",
       "  <tbody>\n",
       "    <tr>\n",
       "      <th>0</th>\n",
       "      <td>Linreg full model without log of target variable</td>\n",
       "      <td>0.755314</td>\n",
       "      <td>0.753344</td>\n",
       "      <td>5982.567065</td>\n",
       "    </tr>\n",
       "    <tr>\n",
       "      <th>1</th>\n",
       "      <td>Linreg full model with log of target variable</td>\n",
       "      <td>0.762914</td>\n",
       "      <td>0.761006</td>\n",
       "      <td>5982.567065</td>\n",
       "    </tr>\n",
       "  </tbody>\n",
       "</table>\n",
       "</div>"
      ],
      "text/plain": [
       "                                         Model_Name  R-Squared  \\\n",
       "0  Linreg full model without log of target variable   0.755314   \n",
       "1     Linreg full model with log of target variable   0.762914   \n",
       "\n",
       "   Adj. R-Squared         RMSE  \n",
       "0        0.753344  5982.567065  \n",
       "1        0.761006  5982.567065  "
      ]
     },
     "execution_count": 60,
     "metadata": {},
     "output_type": "execute_result"
    }
   ],
   "source": [
    "score_card"
   ]
  },
  {
   "cell_type": "markdown",
   "id": "ccd4e12a",
   "metadata": {},
   "source": [
    "**On comparing the above models, it is seen that the R-squared and the Adjusted R-squared value for the model considering log transformation of the variable 'charges' is higher than the other model, but not a significantly higher."
   ]
  },
  {
   "cell_type": "markdown",
   "id": "7fd47323",
   "metadata": {},
   "source": [
    "Let us now see the effect on the linear regression model on adding an interaction effect of two significant variables\n",
    "\n",
    "An interaction effect occurs when the effect of one variable depends on another variable. This combined effect may or may not improve the performance of the model\n",
    "\n",
    "In order to build the model, we do the following:\n",
    "\n",
    "                   1. Compute the interaction effect\n",
    "\n",
    "                   2. Split the data into training and test sets\n",
    "\n",
    "                   3. Build model using sm.OLS().fit()\n",
    "\n",
    "                   4. Predict the values using test set\n",
    "\n",
    "                   5. Compute accuracy measures\n",
    "\n",
    "                   6. Tabulate the results"
   ]
  },
  {
   "cell_type": "code",
   "execution_count": 61,
   "id": "5b3ad58f",
   "metadata": {},
   "outputs": [
    {
     "data": {
      "text/html": [
       "<div>\n",
       "<style scoped>\n",
       "    .dataframe tbody tr th:only-of-type {\n",
       "        vertical-align: middle;\n",
       "    }\n",
       "\n",
       "    .dataframe tbody tr th {\n",
       "        vertical-align: top;\n",
       "    }\n",
       "\n",
       "    .dataframe thead th {\n",
       "        text-align: right;\n",
       "    }\n",
       "</style>\n",
       "<table border=\"1\" class=\"dataframe\">\n",
       "  <thead>\n",
       "    <tr style=\"text-align: right;\">\n",
       "      <th></th>\n",
       "      <th>const</th>\n",
       "      <th>age</th>\n",
       "      <th>bmi</th>\n",
       "      <th>children</th>\n",
       "      <th>charges</th>\n",
       "      <th>sex_male</th>\n",
       "      <th>smoker_yes</th>\n",
       "      <th>region_northwest</th>\n",
       "      <th>region_southeast</th>\n",
       "      <th>region_southwest</th>\n",
       "      <th>log_charges</th>\n",
       "      <th>bmi_mul_smoker</th>\n",
       "    </tr>\n",
       "  </thead>\n",
       "  <tbody>\n",
       "    <tr>\n",
       "      <th>0</th>\n",
       "      <td>1.0</td>\n",
       "      <td>19</td>\n",
       "      <td>27.900</td>\n",
       "      <td>0</td>\n",
       "      <td>16884.92400</td>\n",
       "      <td>0</td>\n",
       "      <td>1</td>\n",
       "      <td>0</td>\n",
       "      <td>0</td>\n",
       "      <td>1</td>\n",
       "      <td>9.734176</td>\n",
       "      <td>27.9</td>\n",
       "    </tr>\n",
       "    <tr>\n",
       "      <th>1</th>\n",
       "      <td>1.0</td>\n",
       "      <td>18</td>\n",
       "      <td>33.770</td>\n",
       "      <td>1</td>\n",
       "      <td>1725.55230</td>\n",
       "      <td>1</td>\n",
       "      <td>0</td>\n",
       "      <td>0</td>\n",
       "      <td>1</td>\n",
       "      <td>0</td>\n",
       "      <td>7.453302</td>\n",
       "      <td>0.0</td>\n",
       "    </tr>\n",
       "    <tr>\n",
       "      <th>2</th>\n",
       "      <td>1.0</td>\n",
       "      <td>28</td>\n",
       "      <td>33.000</td>\n",
       "      <td>3</td>\n",
       "      <td>4449.46200</td>\n",
       "      <td>1</td>\n",
       "      <td>0</td>\n",
       "      <td>0</td>\n",
       "      <td>1</td>\n",
       "      <td>0</td>\n",
       "      <td>8.400538</td>\n",
       "      <td>0.0</td>\n",
       "    </tr>\n",
       "    <tr>\n",
       "      <th>3</th>\n",
       "      <td>1.0</td>\n",
       "      <td>33</td>\n",
       "      <td>22.705</td>\n",
       "      <td>0</td>\n",
       "      <td>21984.47061</td>\n",
       "      <td>1</td>\n",
       "      <td>0</td>\n",
       "      <td>1</td>\n",
       "      <td>0</td>\n",
       "      <td>0</td>\n",
       "      <td>9.998092</td>\n",
       "      <td>0.0</td>\n",
       "    </tr>\n",
       "    <tr>\n",
       "      <th>4</th>\n",
       "      <td>1.0</td>\n",
       "      <td>32</td>\n",
       "      <td>28.880</td>\n",
       "      <td>0</td>\n",
       "      <td>3866.85520</td>\n",
       "      <td>1</td>\n",
       "      <td>0</td>\n",
       "      <td>1</td>\n",
       "      <td>0</td>\n",
       "      <td>0</td>\n",
       "      <td>8.260197</td>\n",
       "      <td>0.0</td>\n",
       "    </tr>\n",
       "  </tbody>\n",
       "</table>\n",
       "</div>"
      ],
      "text/plain": [
       "   const  age     bmi  children      charges  sex_male  smoker_yes  \\\n",
       "0    1.0   19  27.900         0  16884.92400         0           1   \n",
       "1    1.0   18  33.770         1   1725.55230         1           0   \n",
       "2    1.0   28  33.000         3   4449.46200         1           0   \n",
       "3    1.0   33  22.705         0  21984.47061         1           0   \n",
       "4    1.0   32  28.880         0   3866.85520         1           0   \n",
       "\n",
       "   region_northwest  region_southeast  region_southwest  log_charges  \\\n",
       "0                 0                 0                 1     9.734176   \n",
       "1                 0                 1                 0     7.453302   \n",
       "2                 0                 1                 0     8.400538   \n",
       "3                 1                 0                 0     9.998092   \n",
       "4                 1                 0                 0     8.260197   \n",
       "\n",
       "   bmi_mul_smoker  \n",
       "0            27.9  \n",
       "1             0.0  \n",
       "2             0.0  \n",
       "3             0.0  \n",
       "4             0.0  "
      ]
     },
     "execution_count": 61,
     "metadata": {},
     "output_type": "execute_result"
    }
   ],
   "source": [
    "df_interaction = df_dummy.copy()\n",
    "df_interaction['bmi_mul_smoker'] = df_interaction['bmi']*df_interaction['smoker_yes'] \n",
    "df_interaction.head()"
   ]
  },
  {
   "cell_type": "code",
   "execution_count": 62,
   "id": "c51148c4",
   "metadata": {},
   "outputs": [],
   "source": [
    "X = df_interaction.drop(['charges','log_charges'], axis=1)"
   ]
  },
  {
   "cell_type": "code",
   "execution_count": 63,
   "id": "f44c604c",
   "metadata": {},
   "outputs": [],
   "source": [
    "y = df_interaction['charges']\n"
   ]
  },
  {
   "cell_type": "code",
   "execution_count": 64,
   "id": "bc28237c",
   "metadata": {},
   "outputs": [],
   "source": [
    "X_train_interaction, X_test_interaction, y_train, y_test = train_test_split( X, y, random_state=1)\n"
   ]
  },
  {
   "cell_type": "code",
   "execution_count": 65,
   "id": "5870774b",
   "metadata": {},
   "outputs": [
    {
     "name": "stdout",
     "output_type": "stream",
     "text": [
      "                            OLS Regression Results                            \n",
      "==============================================================================\n",
      "Dep. Variable:                charges   R-squared:                       0.841\n",
      "Model:                            OLS   Adj. R-squared:                  0.840\n",
      "Method:                 Least Squares   F-statistic:                     585.2\n",
      "Date:                Sun, 19 Nov 2023   Prob (F-statistic):               0.00\n",
      "Time:                        17:42:00   Log-Likelihood:                -9942.7\n",
      "No. Observations:                1003   AIC:                         1.991e+04\n",
      "Df Residuals:                     993   BIC:                         1.995e+04\n",
      "Df Model:                           9                                         \n",
      "Covariance Type:            nonrobust                                         \n",
      "====================================================================================\n",
      "                       coef    std err          t      P>|t|      [0.025      0.975]\n",
      "------------------------------------------------------------------------------------\n",
      "const            -1774.7556   1003.103     -1.769      0.077   -3743.200     193.689\n",
      "age                259.3439     11.184     23.188      0.000     237.397     281.291\n",
      "bmi                 16.4294     29.732      0.553      0.581     -41.916      74.775\n",
      "children           419.7150    128.138      3.275      0.001     168.262     671.168\n",
      "sex_male          -729.6624    312.318     -2.336      0.020   -1342.541    -116.783\n",
      "smoker_yes       -2.001e+04   1937.979    -10.326      0.000   -2.38e+04   -1.62e+04\n",
      "region_northwest  -357.7049    448.462     -0.798      0.425   -1237.748     522.338\n",
      "region_southeast -1017.0655    451.196     -2.254      0.024   -1902.473    -131.658\n",
      "region_southwest  -963.4216    446.024     -2.160      0.031   -1838.680     -88.163\n",
      "bmi_mul_smoker    1433.6546     61.765     23.212      0.000    1312.450    1554.859\n",
      "==============================================================================\n",
      "Omnibus:                      529.008   Durbin-Watson:                   2.030\n",
      "Prob(Omnibus):                  0.000   Jarque-Bera (JB):             3080.408\n",
      "Skew:                           2.452   Prob(JB):                         0.00\n",
      "Kurtosis:                      10.047   Cond. No.                         663.\n",
      "==============================================================================\n",
      "\n",
      "Notes:\n",
      "[1] Standard Errors assume that the covariance matrix of the errors is correctly specified.\n"
     ]
    }
   ],
   "source": [
    "linreg_with_interaction = sm.OLS(y_train, X_train_interaction).fit()\n",
    "print(linreg_with_interaction.summary())"
   ]
  },
  {
   "cell_type": "markdown",
   "id": "bac5b2d9",
   "metadata": {},
   "source": [
    "**This model explains 84.1% of the variation in dependent variable charges.The Durbin-Watson test statistics is 2.030 and indicates that the is no autocorrelation. The Condition Number is 663 suggests that there is a moderate(low) collinearity. The collinearity is likely to increase because of the interaction effect."
   ]
  },
  {
   "cell_type": "code",
   "execution_count": 66,
   "id": "90e682d9",
   "metadata": {},
   "outputs": [],
   "source": [
    "predicted_claim = linreg_with_interaction.predict(X_test_interaction)\n",
    "actual_claim = y_test"
   ]
  },
  {
   "cell_type": "code",
   "execution_count": 67,
   "id": "a7143408",
   "metadata": {},
   "outputs": [],
   "source": [
    "# calculate rmse using rmse()\n",
    "linreg_with_interaction_rmse = rmse(actual_claim, predicted_claim)\n",
    "\n",
    "# calculate R-squared using rsquared\n",
    "linreg_with_interaction_rsquared = linreg_with_interaction.rsquared\n",
    "\n",
    "# calculate Adjusted R-Squared using rsquared_adj\n",
    "linreg_with_interaction_rsquared_adj = linreg_with_interaction.rsquared_adj "
   ]
  },
  {
   "cell_type": "code",
   "execution_count": 68,
   "id": "ccdf328a",
   "metadata": {},
   "outputs": [
    {
     "data": {
      "text/html": [
       "<div>\n",
       "<style scoped>\n",
       "    .dataframe tbody tr th:only-of-type {\n",
       "        vertical-align: middle;\n",
       "    }\n",
       "\n",
       "    .dataframe tbody tr th {\n",
       "        vertical-align: top;\n",
       "    }\n",
       "\n",
       "    .dataframe thead th {\n",
       "        text-align: right;\n",
       "    }\n",
       "</style>\n",
       "<table border=\"1\" class=\"dataframe\">\n",
       "  <thead>\n",
       "    <tr style=\"text-align: right;\">\n",
       "      <th></th>\n",
       "      <th>Model_Name</th>\n",
       "      <th>R-Squared</th>\n",
       "      <th>Adj. R-Squared</th>\n",
       "      <th>RMSE</th>\n",
       "    </tr>\n",
       "  </thead>\n",
       "  <tbody>\n",
       "    <tr>\n",
       "      <th>0</th>\n",
       "      <td>Linreg full model without log of target variable</td>\n",
       "      <td>0.755314</td>\n",
       "      <td>0.753344</td>\n",
       "      <td>5982.567065</td>\n",
       "    </tr>\n",
       "    <tr>\n",
       "      <th>1</th>\n",
       "      <td>Linreg full model with log of target variable</td>\n",
       "      <td>0.762914</td>\n",
       "      <td>0.761006</td>\n",
       "      <td>5982.567065</td>\n",
       "    </tr>\n",
       "    <tr>\n",
       "      <th>2</th>\n",
       "      <td>linreg_with_interaction</td>\n",
       "      <td>0.841378</td>\n",
       "      <td>0.839940</td>\n",
       "      <td>4672.893439</td>\n",
       "    </tr>\n",
       "  </tbody>\n",
       "</table>\n",
       "</div>"
      ],
      "text/plain": [
       "                                         Model_Name  R-Squared  \\\n",
       "0  Linreg full model without log of target variable   0.755314   \n",
       "1     Linreg full model with log of target variable   0.762914   \n",
       "2                           linreg_with_interaction   0.841378   \n",
       "\n",
       "   Adj. R-Squared         RMSE  \n",
       "0        0.753344  5982.567065  \n",
       "1        0.761006  5982.567065  \n",
       "2        0.839940  4672.893439  "
      ]
     },
     "execution_count": 68,
     "metadata": {},
     "output_type": "execute_result"
    }
   ],
   "source": [
    "linreg_with_interaction_metrics = pd.Series({\n",
    "                     'Model_Name': \"linreg_with_interaction\",\n",
    "                     'RMSE': linreg_with_interaction_rmse,\n",
    "                     'R-Squared': linreg_with_interaction_rsquared,\n",
    "                     'Adj. R-Squared': linreg_with_interaction_rsquared_adj     \n",
    "                   })\n",
    "score_card = score_card.append(linreg_with_interaction_metrics, ignore_index = True)\n",
    "score_card"
   ]
  },
  {
   "cell_type": "markdown",
   "id": "2c2e91aa",
   "metadata": {},
   "source": [
    "**The R-squared and adjusted R-squared value have also significantly increased. This output justifies that addition of an interaction effect has positively contributed to the performance of the model."
   ]
  },
  {
   "cell_type": "markdown",
   "id": "fead8dda",
   "metadata": {},
   "source": [
    "Gradient Descent is an optimization technique in machine learning. It is an iterative method which is used to find the values of the parameters of a function that minimizes the cost function. \n",
    "For gradient decent we use the complete dataset to get the optimal in a less noisy or less random manner. But the problem arises when our datasets get really huge, say you have a million samples in your dataset, it becomes computationally very expensive to perform. This problem is solved by Stochastic Gradient Descent. In SGD, it uses only a single sample to perform each iteration. The sample is randomly shuffled and selected for performing the iteration.\n",
    "1. Fit the linear regression using the SGD\n",
    "\n",
    "2. Predict the values using test set\n",
    "\n",
    "3. Compute accuracy measures\n",
    "\n",
    "4. Tabulate the results\n",
    "\n",
    "Scaling is important when performing gradient descent because it can significantly affect the convergence rate of the algorithm.\n",
    "Since the newly bmi_mul_smoke_1 variable had impacted the model in a better way, we will use the variable for the upcoming models as well."
   ]
  },
  {
   "cell_type": "code",
   "execution_count": 69,
   "id": "98cbaba0",
   "metadata": {},
   "outputs": [],
   "source": [
    "from sklearn.preprocessing import StandardScaler\n"
   ]
  },
  {
   "cell_type": "code",
   "execution_count": 70,
   "id": "559d044a",
   "metadata": {},
   "outputs": [],
   "source": [
    "df_numeric_features['bmi_mul_smoker'] = df_numeric_features.bmi*df_categoric_features[\"smoker_yes\"]\n",
    "y = df_numeric_features['charges']"
   ]
  },
  {
   "cell_type": "code",
   "execution_count": 72,
   "id": "a0145ed4",
   "metadata": {},
   "outputs": [],
   "source": [
    "df_numeric_features = df_numeric_features.drop(['charges'],axis=1)"
   ]
  },
  {
   "cell_type": "code",
   "execution_count": 73,
   "id": "2d5125c5",
   "metadata": {},
   "outputs": [],
   "source": [
    "X_scaled = pd.concat([df_numeric_features.reset_index(drop=True), df_categoric_features.reset_index(drop=True)], axis = 1)\n",
    "X_train_scaled,X_test_scaled,y_train_scaled,y_test_scaled = train_test_split(X_scaled,y,random_state=1)"
   ]
  },
  {
   "cell_type": "code",
   "execution_count": 74,
   "id": "66e9db08",
   "metadata": {},
   "outputs": [],
   "source": [
    "scaler_ind = StandardScaler()\n",
    "\n",
    "scaler_ind.fit(X_train_scaled)\n",
    "X_train_scaled = pd.DataFrame(scaler_ind.transform(X_train_scaled),columns=X_train_scaled.columns)\n",
    "\n",
    "scaler_ind.fit(X_test_scaled)\n",
    "X_test_scaled = pd.DataFrame(scaler_ind.transform(X_test_scaled),columns=X_test_scaled.columns)"
   ]
  },
  {
   "cell_type": "code",
   "execution_count": 75,
   "id": "74bcdfc2",
   "metadata": {},
   "outputs": [
    {
     "data": {
      "text/html": [
       "<div>\n",
       "<style scoped>\n",
       "    .dataframe tbody tr th:only-of-type {\n",
       "        vertical-align: middle;\n",
       "    }\n",
       "\n",
       "    .dataframe tbody tr th {\n",
       "        vertical-align: top;\n",
       "    }\n",
       "\n",
       "    .dataframe thead th {\n",
       "        text-align: right;\n",
       "    }\n",
       "</style>\n",
       "<table border=\"1\" class=\"dataframe\">\n",
       "  <thead>\n",
       "    <tr style=\"text-align: right;\">\n",
       "      <th></th>\n",
       "      <th>age</th>\n",
       "      <th>bmi</th>\n",
       "      <th>children</th>\n",
       "      <th>bmi_mul_smoker</th>\n",
       "      <th>sex_male</th>\n",
       "      <th>smoker_yes</th>\n",
       "      <th>region_northwest</th>\n",
       "      <th>region_southeast</th>\n",
       "      <th>region_southwest</th>\n",
       "    </tr>\n",
       "  </thead>\n",
       "  <tbody>\n",
       "    <tr>\n",
       "      <th>0</th>\n",
       "      <td>-0.779886</td>\n",
       "      <td>-0.805683</td>\n",
       "      <td>-0.907059</td>\n",
       "      <td>-0.504981</td>\n",
       "      <td>-1.027292</td>\n",
       "      <td>-0.517702</td>\n",
       "      <td>-0.565453</td>\n",
       "      <td>-0.605380</td>\n",
       "      <td>1.726314</td>\n",
       "    </tr>\n",
       "    <tr>\n",
       "      <th>1</th>\n",
       "      <td>-1.280350</td>\n",
       "      <td>-0.814660</td>\n",
       "      <td>0.739602</td>\n",
       "      <td>-0.504981</td>\n",
       "      <td>0.973434</td>\n",
       "      <td>-0.517702</td>\n",
       "      <td>-0.565453</td>\n",
       "      <td>-0.605380</td>\n",
       "      <td>-0.579269</td>\n",
       "    </tr>\n",
       "    <tr>\n",
       "      <th>2</th>\n",
       "      <td>0.149548</td>\n",
       "      <td>1.554541</td>\n",
       "      <td>-0.907059</td>\n",
       "      <td>-0.504981</td>\n",
       "      <td>0.973434</td>\n",
       "      <td>-0.517702</td>\n",
       "      <td>-0.565453</td>\n",
       "      <td>1.651855</td>\n",
       "      <td>-0.579269</td>\n",
       "    </tr>\n",
       "    <tr>\n",
       "      <th>3</th>\n",
       "      <td>1.722435</td>\n",
       "      <td>0.477260</td>\n",
       "      <td>1.562933</td>\n",
       "      <td>-0.504981</td>\n",
       "      <td>0.973434</td>\n",
       "      <td>-0.517702</td>\n",
       "      <td>-0.565453</td>\n",
       "      <td>1.651855</td>\n",
       "      <td>-0.579269</td>\n",
       "    </tr>\n",
       "    <tr>\n",
       "      <th>4</th>\n",
       "      <td>1.793930</td>\n",
       "      <td>-0.706116</td>\n",
       "      <td>-0.907059</td>\n",
       "      <td>-0.504981</td>\n",
       "      <td>0.973434</td>\n",
       "      <td>-0.517702</td>\n",
       "      <td>-0.565453</td>\n",
       "      <td>-0.605380</td>\n",
       "      <td>-0.579269</td>\n",
       "    </tr>\n",
       "  </tbody>\n",
       "</table>\n",
       "</div>"
      ],
      "text/plain": [
       "        age       bmi  children  bmi_mul_smoker  sex_male  smoker_yes  \\\n",
       "0 -0.779886 -0.805683 -0.907059       -0.504981 -1.027292   -0.517702   \n",
       "1 -1.280350 -0.814660  0.739602       -0.504981  0.973434   -0.517702   \n",
       "2  0.149548  1.554541 -0.907059       -0.504981  0.973434   -0.517702   \n",
       "3  1.722435  0.477260  1.562933       -0.504981  0.973434   -0.517702   \n",
       "4  1.793930 -0.706116 -0.907059       -0.504981  0.973434   -0.517702   \n",
       "\n",
       "   region_northwest  region_southeast  region_southwest  \n",
       "0         -0.565453         -0.605380          1.726314  \n",
       "1         -0.565453         -0.605380         -0.579269  \n",
       "2         -0.565453          1.651855         -0.579269  \n",
       "3         -0.565453          1.651855         -0.579269  \n",
       "4         -0.565453         -0.605380         -0.579269  "
      ]
     },
     "execution_count": 75,
     "metadata": {},
     "output_type": "execute_result"
    }
   ],
   "source": [
    "X_train_scaled.head()"
   ]
  },
  {
   "cell_type": "code",
   "execution_count": 76,
   "id": "e98b33c2",
   "metadata": {},
   "outputs": [],
   "source": [
    "# scaling the target variable\n",
    "scaler_target = StandardScaler()\n",
    "scaler_target.fit(np.array(y_train_scaled).reshape((-1,1)))\n",
    "y_train_scaled = scaler_target.fit_transform(np.array(y_train_scaled).reshape((-1,1)))\n",
    "\n",
    "\n",
    "scaler_target.fit(np.array(y_test_scaled).reshape((-1,1)))\n",
    "y_test_scaled = scaler_target.fit_transform(np.array(y_test_scaled).reshape((-1,1)))"
   ]
  },
  {
   "cell_type": "code",
   "execution_count": 77,
   "id": "db7d1546",
   "metadata": {},
   "outputs": [],
   "source": [
    "from sklearn.linear_model import SGDRegressor\n",
    "\n",
    "# build the model\n",
    "linreg_with_SGD = SGDRegressor()\n",
    "\n",
    "# we fit our model with train data\n",
    "linreg_with_SGD = linreg_with_SGD.fit(X_train_scaled, y_train_scaled)"
   ]
  },
  {
   "cell_type": "code",
   "execution_count": 78,
   "id": "d3a6dbd8",
   "metadata": {},
   "outputs": [],
   "source": [
    "linreg_with_SGD_predictions = scaler_target.inverse_transform(linreg_with_SGD.predict(X_test_scaled).reshape(-1,1))\n",
    "# we use predict() to predict our values\n",
    "# Take the inverse of the prediction as we have done the transformation"
   ]
  },
  {
   "cell_type": "code",
   "execution_count": 79,
   "id": "1316d650",
   "metadata": {},
   "outputs": [],
   "source": [
    "# calculate mse by taking inverse of the data as we did scaling \n",
    "linreg_SGD_mse = mean_squared_error(y_test,linreg_with_SGD_predictions)\n",
    "\n",
    "# calculate rmse\n",
    "linreg_SGD_rmse = np.sqrt(linreg_SGD_mse)\n",
    "\n",
    "# calculate R-squared\n",
    "linreg_SGD_r_squared = r2_score(y_test, linreg_with_SGD_predictions)\n",
    "\n",
    "# calculate Adjusted R-squared\n",
    "linreg_SGD_adjusted_r_squared = 1 - (1-linreg_SGD_r_squared)*(len(y_test)-1)/(len(y_test)- X_test.shape[1]-1)"
   ]
  },
  {
   "cell_type": "code",
   "execution_count": 80,
   "id": "b754a39a",
   "metadata": {},
   "outputs": [],
   "source": [
    "# compile the required information\n",
    "linreg_full_model_SGD = pd.Series({\n",
    "                     'Model_Name': \"Linear Regression SGD\",\n",
    "                     'RMSE': linreg_SGD_rmse ,\n",
    "                     'R-Squared': linreg_SGD_r_squared,\n",
    "                     'Adj. R-Squared': linreg_SGD_adjusted_r_squared   \n",
    "                   })"
   ]
  },
  {
   "cell_type": "code",
   "execution_count": 81,
   "id": "94084c44",
   "metadata": {},
   "outputs": [],
   "source": [
    "score_card = score_card.append(linreg_full_model_SGD, ignore_index = True)\n"
   ]
  },
  {
   "cell_type": "code",
   "execution_count": 82,
   "id": "430a85c9",
   "metadata": {},
   "outputs": [
    {
     "data": {
      "text/html": [
       "<div>\n",
       "<style scoped>\n",
       "    .dataframe tbody tr th:only-of-type {\n",
       "        vertical-align: middle;\n",
       "    }\n",
       "\n",
       "    .dataframe tbody tr th {\n",
       "        vertical-align: top;\n",
       "    }\n",
       "\n",
       "    .dataframe thead th {\n",
       "        text-align: right;\n",
       "    }\n",
       "</style>\n",
       "<table border=\"1\" class=\"dataframe\">\n",
       "  <thead>\n",
       "    <tr style=\"text-align: right;\">\n",
       "      <th></th>\n",
       "      <th>Model_Name</th>\n",
       "      <th>R-Squared</th>\n",
       "      <th>Adj. R-Squared</th>\n",
       "      <th>RMSE</th>\n",
       "    </tr>\n",
       "  </thead>\n",
       "  <tbody>\n",
       "    <tr>\n",
       "      <th>0</th>\n",
       "      <td>Linreg full model without log of target variable</td>\n",
       "      <td>0.755314</td>\n",
       "      <td>0.753344</td>\n",
       "      <td>5982.567065</td>\n",
       "    </tr>\n",
       "    <tr>\n",
       "      <th>1</th>\n",
       "      <td>Linreg full model with log of target variable</td>\n",
       "      <td>0.762914</td>\n",
       "      <td>0.761006</td>\n",
       "      <td>5982.567065</td>\n",
       "    </tr>\n",
       "    <tr>\n",
       "      <th>2</th>\n",
       "      <td>linreg_with_interaction</td>\n",
       "      <td>0.841378</td>\n",
       "      <td>0.839940</td>\n",
       "      <td>4672.893439</td>\n",
       "    </tr>\n",
       "    <tr>\n",
       "      <th>3</th>\n",
       "      <td>Linear Regression SGD</td>\n",
       "      <td>0.798504</td>\n",
       "      <td>0.792924</td>\n",
       "      <td>5206.181199</td>\n",
       "    </tr>\n",
       "  </tbody>\n",
       "</table>\n",
       "</div>"
      ],
      "text/plain": [
       "                                         Model_Name  R-Squared  \\\n",
       "0  Linreg full model without log of target variable   0.755314   \n",
       "1     Linreg full model with log of target variable   0.762914   \n",
       "2                           linreg_with_interaction   0.841378   \n",
       "3                             Linear Regression SGD   0.798504   \n",
       "\n",
       "   Adj. R-Squared         RMSE  \n",
       "0        0.753344  5982.567065  \n",
       "1        0.761006  5982.567065  \n",
       "2        0.839940  4672.893439  \n",
       "3        0.792924  5206.181199  "
      ]
     },
     "execution_count": 82,
     "metadata": {},
     "output_type": "execute_result"
    }
   ],
   "source": [
    "score_card"
   ]
  },
  {
   "cell_type": "code",
   "execution_count": 83,
   "id": "f524801a",
   "metadata": {},
   "outputs": [],
   "source": [
    "#Now we perform Linear Regression using Stochastic Gradient Descent with GridSearchCV. \n",
    "from sklearn.model_selection import GridSearchCV\n",
    "param_grid = { 'alpha': 10.0 ** -np.arange(1, 7), \n",
    "        \n",
    "               'loss': ['squared_loss'], \n",
    "    \n",
    "               'penalty': ['l2', 'l1', 'elasticnet'],\n",
    "    \n",
    "               'learning_rate': ['constant', 'optimal', 'invscaling']\n",
    "}\n",
    "\n",
    "\n",
    "# alpha is regularization term usually in the range 10.0**-np.arange(1,7).\n",
    "# this will generate different alpha values like 1.e-01, 1.e-02, 1.e-03, 1.e-04, 1.e-05, 1.e-06\n",
    "\n",
    "# loss=\"squared_loss\": Ordinary least squares, \n",
    "\n",
    "# \"l2\": L2 norm penalty on coefficients (ridge regression), \n",
    "# \"l1\": L1 norm penalty on coefficients(lasso regression), \"elasticnet\": Convex combination of L2 and L1    \n",
    "   \n",
    "# The learning rate can be either constant or gradually decaying"
   ]
  },
  {
   "cell_type": "code",
   "execution_count": 84,
   "id": "615602b1",
   "metadata": {},
   "outputs": [
    {
     "data": {
      "text/plain": [
       "GridSearchCV(estimator=SGDRegressor(),\n",
       "             param_grid={'alpha': array([1.e-01, 1.e-02, 1.e-03, 1.e-04, 1.e-05, 1.e-06]),\n",
       "                         'learning_rate': ['constant', 'optimal', 'invscaling'],\n",
       "                         'loss': ['squared_loss'],\n",
       "                         'penalty': ['l2', 'l1', 'elasticnet']})"
      ]
     },
     "execution_count": 84,
     "metadata": {},
     "output_type": "execute_result"
    }
   ],
   "source": [
    "# using sklearn’s GridSearchCV, we define our grid of parameters to search over and then run the grid search\n",
    "reg = GridSearchCV(linreg_with_SGD, param_grid)\n",
    "\n",
    "# fit the model on train data\n",
    "reg.fit(X_train_scaled, y_train_scaled)"
   ]
  },
  {
   "cell_type": "code",
   "execution_count": 85,
   "id": "be9c88b2",
   "metadata": {},
   "outputs": [
    {
     "name": "stdout",
     "output_type": "stream",
     "text": [
      "Best alpha: 0.0001\n",
      "Best tol: 0.001\n",
      "Best eta0: 0.01\n",
      "Best learning rate: constant\n"
     ]
    }
   ],
   "source": [
    "# print the best parameters\n",
    "# print best alpha value\n",
    "print('Best alpha:', reg.best_estimator_.alpha)\n",
    "\n",
    "# print best tolerance\n",
    "print('Best tol:', reg.best_estimator_.tol) \n",
    "\n",
    "# print best starting rate (Use eta0 to specify the starting learning)\n",
    "print('Best eta0:', reg.best_estimator_.eta0)\n",
    "\n",
    "# print best learning rate\n",
    "print('Best learning rate:', reg.best_estimator_.learning_rate) "
   ]
  },
  {
   "cell_type": "code",
   "execution_count": 86,
   "id": "9d79f886",
   "metadata": {},
   "outputs": [
    {
     "data": {
      "text/plain": [
       "SGDRegressor(learning_rate='constant')"
      ]
     },
     "execution_count": 86,
     "metadata": {},
     "output_type": "execute_result"
    }
   ],
   "source": [
    "#We have obtained the optimal parameters. Now substituting these values in SGDRegressor() we build the model.\n",
    "linreg_SGD_using_best_parameter = SGDRegressor(alpha=0.0001,\n",
    "                                               tol=0.001,\n",
    "                                               eta0=0.01, \n",
    "                                               learning_rate='constant')\n",
    "\n",
    "# fit the SGD model using best parameter\n",
    "linreg_SGD_using_best_parameter.fit(X_train_scaled,y_train_scaled)"
   ]
  },
  {
   "cell_type": "code",
   "execution_count": 87,
   "id": "f313a027",
   "metadata": {},
   "outputs": [],
   "source": [
    "linreg_SGD_using_best_parameter_predictions =  scaler_target.inverse_transform(linreg_SGD_using_best_parameter.predict\n",
    "                                                                               (X_test_scaled).reshape(-1,1))\n",
    "# calculate mse\n",
    "linreg_SGD_using_best_parameter_mse = mean_squared_error(y_test, linreg_SGD_using_best_parameter_predictions)\n",
    "\n",
    "# calculate rmse\n",
    "linreg_SGD_using_best_parameter_rmse = np.sqrt(linreg_SGD_using_best_parameter_mse)\n",
    "\n",
    "# calculate R-squared\n",
    "linreg_SGD_using_best_parameter_r_squared = r2_score(y_test, linreg_SGD_using_best_parameter_predictions)\n",
    "\n",
    "# calculate Adjusted R-squared\n",
    "linreg_SGD_using_best_parameter_adjusted_r_squared = 1 - (1-linreg_SGD_using_best_parameter_r_squared)*(len(y_test)-1)/(len(y_test)- X_test.shape[1]-1)"
   ]
  },
  {
   "cell_type": "code",
   "execution_count": 91,
   "id": "fd3bfa10",
   "metadata": {},
   "outputs": [
    {
     "data": {
      "text/html": [
       "<div>\n",
       "<style scoped>\n",
       "    .dataframe tbody tr th:only-of-type {\n",
       "        vertical-align: middle;\n",
       "    }\n",
       "\n",
       "    .dataframe tbody tr th {\n",
       "        vertical-align: top;\n",
       "    }\n",
       "\n",
       "    .dataframe thead th {\n",
       "        text-align: right;\n",
       "    }\n",
       "</style>\n",
       "<table border=\"1\" class=\"dataframe\">\n",
       "  <thead>\n",
       "    <tr style=\"text-align: right;\">\n",
       "      <th></th>\n",
       "      <th>Model_Name</th>\n",
       "      <th>R-Squared</th>\n",
       "      <th>Adj. R-Squared</th>\n",
       "      <th>RMSE</th>\n",
       "    </tr>\n",
       "  </thead>\n",
       "  <tbody>\n",
       "    <tr>\n",
       "      <th>0</th>\n",
       "      <td>Linreg full model without log of target variable</td>\n",
       "      <td>0.755314</td>\n",
       "      <td>0.753344</td>\n",
       "      <td>5982.567065</td>\n",
       "    </tr>\n",
       "    <tr>\n",
       "      <th>1</th>\n",
       "      <td>Linreg full model with log of target variable</td>\n",
       "      <td>0.762914</td>\n",
       "      <td>0.761006</td>\n",
       "      <td>5982.567065</td>\n",
       "    </tr>\n",
       "    <tr>\n",
       "      <th>2</th>\n",
       "      <td>linreg_with_interaction</td>\n",
       "      <td>0.841378</td>\n",
       "      <td>0.839940</td>\n",
       "      <td>4672.893439</td>\n",
       "    </tr>\n",
       "    <tr>\n",
       "      <th>3</th>\n",
       "      <td>Linear Regression SGD</td>\n",
       "      <td>0.798504</td>\n",
       "      <td>0.792924</td>\n",
       "      <td>5206.181199</td>\n",
       "    </tr>\n",
       "    <tr>\n",
       "      <th>4</th>\n",
       "      <td>Linear Regression SGD using grid search cv</td>\n",
       "      <td>0.831293</td>\n",
       "      <td>0.826621</td>\n",
       "      <td>4763.787160</td>\n",
       "    </tr>\n",
       "    <tr>\n",
       "      <th>5</th>\n",
       "      <td>Linear Regression SGD using grid search cv</td>\n",
       "      <td>0.831293</td>\n",
       "      <td>0.826621</td>\n",
       "      <td>4763.787160</td>\n",
       "    </tr>\n",
       "  </tbody>\n",
       "</table>\n",
       "</div>"
      ],
      "text/plain": [
       "                                         Model_Name  R-Squared  \\\n",
       "0  Linreg full model without log of target variable   0.755314   \n",
       "1     Linreg full model with log of target variable   0.762914   \n",
       "2                           linreg_with_interaction   0.841378   \n",
       "3                             Linear Regression SGD   0.798504   \n",
       "4        Linear Regression SGD using grid search cv   0.831293   \n",
       "5        Linear Regression SGD using grid search cv   0.831293   \n",
       "\n",
       "   Adj. R-Squared         RMSE  \n",
       "0        0.753344  5982.567065  \n",
       "1        0.761006  5982.567065  \n",
       "2        0.839940  4672.893439  \n",
       "3        0.792924  5206.181199  \n",
       "4        0.826621  4763.787160  \n",
       "5        0.826621  4763.787160  "
      ]
     },
     "execution_count": 91,
     "metadata": {},
     "output_type": "execute_result"
    }
   ],
   "source": [
    "linreg_full_model_SGD = pd.Series({\n",
    "                     'Model_Name': \"Linear Regression SGD using grid search cv\",\n",
    "                     'RMSE': linreg_SGD_using_best_parameter_rmse ,\n",
    "                     'R-Squared': linreg_SGD_using_best_parameter_r_squared,\n",
    "                     'Adj. R-Squared': linreg_SGD_using_best_parameter_adjusted_r_squared   \n",
    "                   })\n",
    "score_card = score_card.append(linreg_full_model_SGD, ignore_index = True)\n",
    "score_card"
   ]
  },
  {
   "cell_type": "code",
   "execution_count": 92,
   "id": "99db405e",
   "metadata": {},
   "outputs": [],
   "source": [
    "score_card.drop(4, inplace=True)"
   ]
  },
  {
   "cell_type": "code",
   "execution_count": 93,
   "id": "5d9009fd",
   "metadata": {},
   "outputs": [
    {
     "data": {
      "text/html": [
       "<div>\n",
       "<style scoped>\n",
       "    .dataframe tbody tr th:only-of-type {\n",
       "        vertical-align: middle;\n",
       "    }\n",
       "\n",
       "    .dataframe tbody tr th {\n",
       "        vertical-align: top;\n",
       "    }\n",
       "\n",
       "    .dataframe thead th {\n",
       "        text-align: right;\n",
       "    }\n",
       "</style>\n",
       "<table border=\"1\" class=\"dataframe\">\n",
       "  <thead>\n",
       "    <tr style=\"text-align: right;\">\n",
       "      <th></th>\n",
       "      <th>Model_Name</th>\n",
       "      <th>R-Squared</th>\n",
       "      <th>Adj. R-Squared</th>\n",
       "      <th>RMSE</th>\n",
       "    </tr>\n",
       "  </thead>\n",
       "  <tbody>\n",
       "    <tr>\n",
       "      <th>0</th>\n",
       "      <td>Linreg full model without log of target variable</td>\n",
       "      <td>0.755314</td>\n",
       "      <td>0.753344</td>\n",
       "      <td>5982.567065</td>\n",
       "    </tr>\n",
       "    <tr>\n",
       "      <th>1</th>\n",
       "      <td>Linreg full model with log of target variable</td>\n",
       "      <td>0.762914</td>\n",
       "      <td>0.761006</td>\n",
       "      <td>5982.567065</td>\n",
       "    </tr>\n",
       "    <tr>\n",
       "      <th>2</th>\n",
       "      <td>linreg_with_interaction</td>\n",
       "      <td>0.841378</td>\n",
       "      <td>0.839940</td>\n",
       "      <td>4672.893439</td>\n",
       "    </tr>\n",
       "    <tr>\n",
       "      <th>3</th>\n",
       "      <td>Linear Regression SGD</td>\n",
       "      <td>0.798504</td>\n",
       "      <td>0.792924</td>\n",
       "      <td>5206.181199</td>\n",
       "    </tr>\n",
       "    <tr>\n",
       "      <th>5</th>\n",
       "      <td>Linear Regression SGD using grid search cv</td>\n",
       "      <td>0.831293</td>\n",
       "      <td>0.826621</td>\n",
       "      <td>4763.787160</td>\n",
       "    </tr>\n",
       "  </tbody>\n",
       "</table>\n",
       "</div>"
      ],
      "text/plain": [
       "                                         Model_Name  R-Squared  \\\n",
       "0  Linreg full model without log of target variable   0.755314   \n",
       "1     Linreg full model with log of target variable   0.762914   \n",
       "2                           linreg_with_interaction   0.841378   \n",
       "3                             Linear Regression SGD   0.798504   \n",
       "5        Linear Regression SGD using grid search cv   0.831293   \n",
       "\n",
       "   Adj. R-Squared         RMSE  \n",
       "0        0.753344  5982.567065  \n",
       "1        0.761006  5982.567065  \n",
       "2        0.839940  4672.893439  \n",
       "3        0.792924  5206.181199  \n",
       "5        0.826621  4763.787160  "
      ]
     },
     "execution_count": 93,
     "metadata": {},
     "output_type": "execute_result"
    }
   ],
   "source": [
    "score_card"
   ]
  },
  {
   "cell_type": "code",
   "execution_count": 96,
   "id": "a81d3c46",
   "metadata": {},
   "outputs": [
    {
     "name": "stdout",
     "output_type": "stream",
     "text": [
      "Collecting mlxtend\n",
      "  Downloading mlxtend-0.23.0-py3-none-any.whl (1.4 MB)\n",
      "Requirement already satisfied: matplotlib>=3.0.0 in c:\\users\\vaish\\anaconda3\\lib\\site-packages (from mlxtend) (3.4.3)\n",
      "Collecting scikit-learn>=1.0.2\n",
      "  Downloading scikit_learn-1.3.2-cp39-cp39-win_amd64.whl (9.3 MB)\n",
      "Requirement already satisfied: numpy>=1.16.2 in c:\\users\\vaish\\anaconda3\\lib\\site-packages (from mlxtend) (1.20.3)\n",
      "Requirement already satisfied: joblib>=0.13.2 in c:\\users\\vaish\\anaconda3\\lib\\site-packages (from mlxtend) (1.1.0)\n",
      "Requirement already satisfied: scipy>=1.2.1 in c:\\users\\vaish\\anaconda3\\lib\\site-packages (from mlxtend) (1.7.1)\n",
      "Requirement already satisfied: pandas>=0.24.2 in c:\\users\\vaish\\anaconda3\\lib\\site-packages (from mlxtend) (1.3.4)\n",
      "Requirement already satisfied: python-dateutil>=2.7 in c:\\users\\vaish\\anaconda3\\lib\\site-packages (from matplotlib>=3.0.0->mlxtend) (2.8.2)\n",
      "Requirement already satisfied: cycler>=0.10 in c:\\users\\vaish\\anaconda3\\lib\\site-packages (from matplotlib>=3.0.0->mlxtend) (0.10.0)\n",
      "Requirement already satisfied: pyparsing>=2.2.1 in c:\\users\\vaish\\anaconda3\\lib\\site-packages (from matplotlib>=3.0.0->mlxtend) (3.0.4)\n",
      "Requirement already satisfied: pillow>=6.2.0 in c:\\users\\vaish\\anaconda3\\lib\\site-packages (from matplotlib>=3.0.0->mlxtend) (8.4.0)\n",
      "Requirement already satisfied: kiwisolver>=1.0.1 in c:\\users\\vaish\\anaconda3\\lib\\site-packages (from matplotlib>=3.0.0->mlxtend) (1.3.1)\n",
      "Requirement already satisfied: six in c:\\users\\vaish\\anaconda3\\lib\\site-packages (from cycler>=0.10->matplotlib>=3.0.0->mlxtend) (1.16.0)\n",
      "Requirement already satisfied: pytz>=2017.3 in c:\\users\\vaish\\anaconda3\\lib\\site-packages (from pandas>=0.24.2->mlxtend) (2021.3)\n",
      "Requirement already satisfied: threadpoolctl>=2.0.0 in c:\\users\\vaish\\anaconda3\\lib\\site-packages (from scikit-learn>=1.0.2->mlxtend) (2.2.0)\n",
      "Collecting joblib>=0.13.2\n",
      "  Downloading joblib-1.3.2-py3-none-any.whl (302 kB)\n",
      "Installing collected packages: joblib, scikit-learn, mlxtend\n",
      "  Attempting uninstall: joblib\n",
      "    Found existing installation: joblib 1.1.0\n",
      "    Uninstalling joblib-1.1.0:\n",
      "      Successfully uninstalled joblib-1.1.0\n",
      "  Attempting uninstall: scikit-learn\n",
      "    Found existing installation: scikit-learn 0.24.2\n",
      "    Uninstalling scikit-learn-0.24.2:\n",
      "      Successfully uninstalled scikit-learn-0.24.2\n",
      "Successfully installed joblib-1.3.2 mlxtend-0.23.0 scikit-learn-1.3.2\n"
     ]
    }
   ],
   "source": [
    "# feature selection\n",
    "!pip install mlxtend\n",
    "\n",
    "from mlxtend.feature_selection import SequentialFeatureSelector as sfs\n"
   ]
  },
  {
   "cell_type": "code",
   "execution_count": 98,
   "id": "eb1393eb",
   "metadata": {},
   "outputs": [
    {
     "name": "stderr",
     "output_type": "stream",
     "text": [
      "[Parallel(n_jobs=1)]: Using backend SequentialBackend with 1 concurrent workers.\n",
      "[Parallel(n_jobs=1)]: Done   1 out of   1 | elapsed:    0.2s remaining:    0.0s\n",
      "[Parallel(n_jobs=1)]: Done  10 out of  10 | elapsed:    0.5s finished\n",
      "\n",
      "[2023-11-19 18:33:26] Features: 1/5 -- score: 0.7176532921343416[Parallel(n_jobs=1)]: Using backend SequentialBackend with 1 concurrent workers.\n",
      "[Parallel(n_jobs=1)]: Done   1 out of   1 | elapsed:    0.0s remaining:    0.0s\n",
      "[Parallel(n_jobs=1)]: Done   9 out of   9 | elapsed:    0.1s finished\n",
      "\n",
      "[2023-11-19 18:33:26] Features: 2/5 -- score: 0.8127379214940987[Parallel(n_jobs=1)]: Using backend SequentialBackend with 1 concurrent workers.\n",
      "[Parallel(n_jobs=1)]: Done   1 out of   1 | elapsed:    0.0s remaining:    0.0s\n",
      "[Parallel(n_jobs=1)]: Done   8 out of   8 | elapsed:    0.1s finished\n",
      "\n",
      "[2023-11-19 18:33:26] Features: 3/5 -- score: 0.8345449975695903[Parallel(n_jobs=1)]: Using backend SequentialBackend with 1 concurrent workers.\n",
      "[Parallel(n_jobs=1)]: Done   1 out of   1 | elapsed:    0.0s remaining:    0.0s\n",
      "[Parallel(n_jobs=1)]: Done   7 out of   7 | elapsed:    0.1s finished\n",
      "\n",
      "[2023-11-19 18:33:26] Features: 4/5 -- score: 0.8359155355768431[Parallel(n_jobs=1)]: Using backend SequentialBackend with 1 concurrent workers.\n",
      "[Parallel(n_jobs=1)]: Done   1 out of   1 | elapsed:    0.0s remaining:    0.0s\n",
      "[Parallel(n_jobs=1)]: Done   6 out of   6 | elapsed:    0.0s finished\n",
      "\n",
      "[2023-11-19 18:33:26] Features: 5/5 -- score: 0.8366809922538788"
     ]
    }
   ],
   "source": [
    "from sklearn.linear_model import LinearRegression\n",
    "\n",
    "reg = LinearRegression()\n",
    "\n",
    "# Build step forward feature selection on linear regression model reg\n",
    "sfs1 = sfs(reg, k_features = 5, forward=True,\n",
    "           floating=False, scoring='r2',\n",
    "           verbose=2,\n",
    "           cv=5)\n",
    "\n",
    "# Perform SFFS\n",
    "sfs1 = sfs1.fit(X_train_interaction, y_train)"
   ]
  },
  {
   "cell_type": "code",
   "execution_count": 99,
   "id": "caae217b",
   "metadata": {},
   "outputs": [
    {
     "data": {
      "text/plain": [
       "<Figure size 3600x3600 with 0 Axes>"
      ]
     },
     "metadata": {},
     "output_type": "display_data"
    },
    {
     "data": {
      "image/png": "[encoded data removed]",
      "text/plain": [
       "<Figure size 432x288 with 1 Axes>"
      ]
     },
     "metadata": {
      "needs_background": "light"
     },
     "output_type": "display_data"
    }
   ],
   "source": [
    "from mlxtend.plotting import plot_sequential_feature_selection as plt_sfs\n",
    "plt.figure(figsize=(50,50))\n",
    "fig1 = plt_sfs(sfs1.get_metric_dict(), kind= 'std_dev') \n",
    "plt.show()"
   ]
  },
  {
   "cell_type": "markdown",
   "id": "8f3e7609",
   "metadata": {},
   "source": [
    "The get_metric_dict method is used to retrieve a dictionary containing information about the performance of the model at each step of the Sequential Feature Selection process. "
   ]
  },
  {
   "cell_type": "code",
   "execution_count": 100,
   "id": "1a132631",
   "metadata": {},
   "outputs": [
    {
     "data": {
      "text/plain": [
       "[('age', 'children', 'sex_male', 'smoker_yes', 'bmi_mul_smoker')]"
      ]
     },
     "execution_count": 100,
     "metadata": {},
     "output_type": "execute_result"
    }
   ],
   "source": [
    "result = pd.DataFrame(sfs1.get_metric_dict()).T\n",
    "result = result[['feature_idx','avg_score','feature_names']]\n",
    "imp_vars_forward = list(result.feature_names[result['avg_score'] == max(result.avg_score)])\n",
    "imp_vars_forward"
   ]
  },
  {
   "cell_type": "code",
   "execution_count": 101,
   "id": "40351888",
   "metadata": {},
   "outputs": [
    {
     "name": "stderr",
     "output_type": "stream",
     "text": [
      "[Parallel(n_jobs=1)]: Using backend SequentialBackend with 1 concurrent workers.\n",
      "[Parallel(n_jobs=1)]: Done   1 out of   1 | elapsed:    0.0s remaining:    0.0s\n",
      "[Parallel(n_jobs=1)]: Done  10 out of  10 | elapsed:    0.1s finished\n",
      "\n",
      "[2023-11-19 18:39:35] Features: 9/5 -- score: 0.8364040779692496[Parallel(n_jobs=1)]: Using backend SequentialBackend with 1 concurrent workers.\n",
      "[Parallel(n_jobs=1)]: Done   1 out of   1 | elapsed:    0.0s remaining:    0.0s\n",
      "[Parallel(n_jobs=1)]: Done   9 out of   9 | elapsed:    0.1s finished\n",
      "\n",
      "[2023-11-19 18:39:36] Features: 8/5 -- score: 0.8365358167041187[Parallel(n_jobs=1)]: Using backend SequentialBackend with 1 concurrent workers.\n",
      "[Parallel(n_jobs=1)]: Done   1 out of   1 | elapsed:    0.0s remaining:    0.0s\n",
      "[Parallel(n_jobs=1)]: Done   8 out of   8 | elapsed:    0.1s finished\n",
      "\n",
      "[2023-11-19 18:39:36] Features: 7/5 -- score: 0.8366582900854592[Parallel(n_jobs=1)]: Using backend SequentialBackend with 1 concurrent workers.\n",
      "[Parallel(n_jobs=1)]: Done   1 out of   1 | elapsed:    0.0s remaining:    0.0s\n",
      "[Parallel(n_jobs=1)]: Done   7 out of   7 | elapsed:    0.1s finished\n",
      "\n",
      "[2023-11-19 18:39:36] Features: 6/5 -- score: 0.8366809922538787[Parallel(n_jobs=1)]: Using backend SequentialBackend with 1 concurrent workers.\n",
      "[Parallel(n_jobs=1)]: Done   1 out of   1 | elapsed:    0.0s remaining:    0.0s\n",
      "[Parallel(n_jobs=1)]: Done   6 out of   6 | elapsed:    0.0s finished\n",
      "\n",
      "[2023-11-19 18:39:36] Features: 5/5 -- score: 0.8366809922538788"
     ]
    }
   ],
   "source": [
    "# Build step backward feature selection\n",
    "sfs2 = sfs(reg, k_features = 5, forward=False,\n",
    "           floating=False, scoring='r2',\n",
    "           verbose=2,\n",
    "           cv=5)\n",
    "\n",
    "# Perform Backward selection\n",
    "sfs2 = sfs2.fit(X_train_interaction, y_train)"
   ]
  },
  {
   "cell_type": "code",
   "execution_count": 102,
   "id": "04f51ca8",
   "metadata": {},
   "outputs": [
    {
     "data": {
      "text/plain": [
       "('age', 'children', 'sex_male', 'smoker_yes', 'bmi_mul_smoker')"
      ]
     },
     "execution_count": 102,
     "metadata": {},
     "output_type": "execute_result"
    }
   ],
   "source": [
    "sfs2.k_feature_names_\n"
   ]
  },
  {
   "cell_type": "markdown",
   "id": "f2d660c8",
   "metadata": {},
   "source": [
    "**As we can see that Forward Feature Selection and Backward Feature Selection methods are giving the same features. So we can conclude that these features are more significant in indenticing the patterns."
   ]
  },
  {
   "cell_type": "code",
   "execution_count": 105,
   "id": "34e0c422",
   "metadata": {},
   "outputs": [],
   "source": [
    "#Let's create a variable to store the important features.\n",
    "imp_vars_forward = [imp_vars_forward[0][i] for i in range(len(imp_vars_forward[0]))]\n"
   ]
  },
  {
   "cell_type": "code",
   "execution_count": 106,
   "id": "6dabaab2",
   "metadata": {},
   "outputs": [],
   "source": [
    "# Let's build OLS model with best features\n",
    "linreg_model_with_forward_selection = sm.OLS(y_train, X_train_interaction[imp_vars_forward]).fit()"
   ]
  },
  {
   "cell_type": "code",
   "execution_count": 107,
   "id": "4dfdaf9e",
   "metadata": {},
   "outputs": [
    {
     "name": "stdout",
     "output_type": "stream",
     "text": [
      "                                 OLS Regression Results                                \n",
      "=======================================================================================\n",
      "Dep. Variable:                charges   R-squared (uncentered):                   0.926\n",
      "Model:                            OLS   Adj. R-squared (uncentered):              0.926\n",
      "Method:                 Least Squares   F-statistic:                              2506.\n",
      "Date:                Sun, 19 Nov 2023   Prob (F-statistic):                        0.00\n",
      "Time:                        18:45:53   Log-Likelihood:                         -9953.3\n",
      "No. Observations:                1003   AIC:                                  1.992e+04\n",
      "Df Residuals:                     998   BIC:                                  1.994e+04\n",
      "Df Model:                           5                                                  \n",
      "Covariance Type:            nonrobust                                                  \n",
      "==================================================================================\n",
      "                     coef    std err          t      P>|t|      [0.025      0.975]\n",
      "----------------------------------------------------------------------------------\n",
      "age              224.8189      5.981     37.587      0.000     213.081     236.556\n",
      "children         296.8147    124.685      2.381      0.017      52.139     541.490\n",
      "sex_male       -1050.9943    301.176     -3.490      0.001   -1642.005    -459.983\n",
      "smoker_yes     -2.042e+04   1736.613    -11.757      0.000   -2.38e+04    -1.7e+04\n",
      "bmi_mul_smoker  1439.2431     55.140     26.102      0.000    1331.040    1547.446\n",
      "==============================================================================\n",
      "Omnibus:                      514.483   Durbin-Watson:                   2.024\n",
      "Prob(Omnibus):                  0.000   Jarque-Bera (JB):             2843.001\n",
      "Skew:                           2.392   Prob(JB):                         0.00\n",
      "Kurtosis:                       9.719   Cond. No.                         465.\n",
      "==============================================================================\n",
      "\n",
      "Notes:\n",
      "[1] R² is computed without centering (uncentered) since the model does not contain a constant.\n",
      "[2] Standard Errors assume that the covariance matrix of the errors is correctly specified.\n"
     ]
    }
   ],
   "source": [
    "print(linreg_model_with_forward_selection.summary())"
   ]
  },
  {
   "cell_type": "code",
   "execution_count": null,
   "id": "a73740a1",
   "metadata": {},
   "outputs": [],
   "source": [
    "#As we can see that R2 and Adjusted R2 have increased significantly and both scores are exactly the same 0.926."
   ]
  },
  {
   "cell_type": "code",
   "execution_count": 108,
   "id": "39445d7c",
   "metadata": {},
   "outputs": [],
   "source": [
    "# predict the 'charges' using predict()\n",
    "predicted_claim = linreg_model_with_forward_selection.predict(X_test_interaction[imp_vars_forward])\n",
    "\n",
    "# extract the 'charges' values from the test data\n",
    "actual_claim = y_test"
   ]
  },
  {
   "cell_type": "code",
   "execution_count": 109,
   "id": "f71cf17f",
   "metadata": {},
   "outputs": [],
   "source": [
    "# calculate rmse using rmse()\n",
    "linreg_model_with_forward_selection_rmse = rmse(actual_claim, predicted_claim)\n",
    "\n",
    "# calculate R-squared using rsquared\n",
    "linreg_model_with_forward_selection_rsquared = linreg_model_with_forward_selection.rsquared\n",
    "\n",
    "# calculate Adjusted R-Squared using rsquared_adj\n",
    "linreg_model_with_forward_selection_rsquared_adj = linreg_model_with_forward_selection.rsquared_adj "
   ]
  },
  {
   "cell_type": "code",
   "execution_count": 110,
   "id": "eed14423",
   "metadata": {},
   "outputs": [
    {
     "data": {
      "text/html": [
       "<div>\n",
       "<style scoped>\n",
       "    .dataframe tbody tr th:only-of-type {\n",
       "        vertical-align: middle;\n",
       "    }\n",
       "\n",
       "    .dataframe tbody tr th {\n",
       "        vertical-align: top;\n",
       "    }\n",
       "\n",
       "    .dataframe thead th {\n",
       "        text-align: right;\n",
       "    }\n",
       "</style>\n",
       "<table border=\"1\" class=\"dataframe\">\n",
       "  <thead>\n",
       "    <tr style=\"text-align: right;\">\n",
       "      <th></th>\n",
       "      <th>Model_Name</th>\n",
       "      <th>R-Squared</th>\n",
       "      <th>Adj. R-Squared</th>\n",
       "      <th>RMSE</th>\n",
       "    </tr>\n",
       "  </thead>\n",
       "  <tbody>\n",
       "    <tr>\n",
       "      <th>0</th>\n",
       "      <td>Linreg full model without log of target variable</td>\n",
       "      <td>0.755314</td>\n",
       "      <td>0.753344</td>\n",
       "      <td>5982.567065</td>\n",
       "    </tr>\n",
       "    <tr>\n",
       "      <th>1</th>\n",
       "      <td>Linreg full model with log of target variable</td>\n",
       "      <td>0.762914</td>\n",
       "      <td>0.761006</td>\n",
       "      <td>5982.567065</td>\n",
       "    </tr>\n",
       "    <tr>\n",
       "      <th>2</th>\n",
       "      <td>linreg_with_interaction</td>\n",
       "      <td>0.841378</td>\n",
       "      <td>0.839940</td>\n",
       "      <td>4672.893439</td>\n",
       "    </tr>\n",
       "    <tr>\n",
       "      <th>3</th>\n",
       "      <td>Linear Regression SGD</td>\n",
       "      <td>0.798504</td>\n",
       "      <td>0.792924</td>\n",
       "      <td>5206.181199</td>\n",
       "    </tr>\n",
       "    <tr>\n",
       "      <th>4</th>\n",
       "      <td>Linear Regression SGD using grid search cv</td>\n",
       "      <td>0.831293</td>\n",
       "      <td>0.826621</td>\n",
       "      <td>4763.787160</td>\n",
       "    </tr>\n",
       "    <tr>\n",
       "      <th>5</th>\n",
       "      <td>linreg_model_with_forward_selection</td>\n",
       "      <td>0.926234</td>\n",
       "      <td>0.925864</td>\n",
       "      <td>4813.077788</td>\n",
       "    </tr>\n",
       "  </tbody>\n",
       "</table>\n",
       "</div>"
      ],
      "text/plain": [
       "                                         Model_Name  R-Squared  \\\n",
       "0  Linreg full model without log of target variable   0.755314   \n",
       "1     Linreg full model with log of target variable   0.762914   \n",
       "2                           linreg_with_interaction   0.841378   \n",
       "3                             Linear Regression SGD   0.798504   \n",
       "4        Linear Regression SGD using grid search cv   0.831293   \n",
       "5               linreg_model_with_forward_selection   0.926234   \n",
       "\n",
       "   Adj. R-Squared         RMSE  \n",
       "0        0.753344  5982.567065  \n",
       "1        0.761006  5982.567065  \n",
       "2        0.839940  4672.893439  \n",
       "3        0.792924  5206.181199  \n",
       "4        0.826621  4763.787160  \n",
       "5        0.925864  4813.077788  "
      ]
     },
     "execution_count": 110,
     "metadata": {},
     "output_type": "execute_result"
    }
   ],
   "source": [
    "linreg_with_interaction_metrics_sfs = pd.Series({\n",
    "                     'Model_Name': \"linreg_model_with_forward_selection\",\n",
    "                     'RMSE': linreg_model_with_forward_selection_rmse,\n",
    "                     'R-Squared': linreg_model_with_forward_selection_rsquared,\n",
    "                     'Adj. R-Squared': linreg_model_with_forward_selection_rsquared_adj     \n",
    "                   })\n",
    "\n",
    "score_card = score_card.append(linreg_with_interaction_metrics_sfs, ignore_index = True)\n",
    "\n",
    "# print the result table\n",
    "score_card"
   ]
  },
  {
   "cell_type": "markdown",
   "id": "209d5209",
   "metadata": {},
   "source": [
    "**As we can see that R2 and Adjusted R2 scores are the same and they have gone up significantly. We can also see that the RMSE value is also less compared to most of the other models."
   ]
  },
  {
   "cell_type": "code",
   "execution_count": 111,
   "id": "604aa14d",
   "metadata": {},
   "outputs": [],
   "source": [
    "#Linear Regression model from SKLearn\n",
    "LR_model = LinearRegression()\n",
    "LR_model.fit(X_train_interaction[imp_vars_forward],y_train)\n",
    "LR_model_predictions = LR_model.predict(X_test_interaction[imp_vars_forward])\n",
    "LR_model_mse = mean_squared_error(y_test, LR_model_predictions)\n",
    "LR_model_rmse = np.sqrt(LR_model_mse)\n",
    "LR_model_r_squared = r2_score(y_test, LR_model_predictions)\n",
    "LR_model_Ad_r_squared = 1 - (1-LR_model_r_squared)*(len(y_test)-1)/(len(y_test)- len(imp_vars_forward)-1)"
   ]
  },
  {
   "cell_type": "code",
   "execution_count": 112,
   "id": "873cb8fa",
   "metadata": {},
   "outputs": [
    {
     "data": {
      "text/html": [
       "<div>\n",
       "<style scoped>\n",
       "    .dataframe tbody tr th:only-of-type {\n",
       "        vertical-align: middle;\n",
       "    }\n",
       "\n",
       "    .dataframe tbody tr th {\n",
       "        vertical-align: top;\n",
       "    }\n",
       "\n",
       "    .dataframe thead th {\n",
       "        text-align: right;\n",
       "    }\n",
       "</style>\n",
       "<table border=\"1\" class=\"dataframe\">\n",
       "  <thead>\n",
       "    <tr style=\"text-align: right;\">\n",
       "      <th></th>\n",
       "      <th>Model_Name</th>\n",
       "      <th>R-Squared</th>\n",
       "      <th>Adj. R-Squared</th>\n",
       "      <th>RMSE</th>\n",
       "    </tr>\n",
       "  </thead>\n",
       "  <tbody>\n",
       "    <tr>\n",
       "      <th>0</th>\n",
       "      <td>Linreg full model without log of target variable</td>\n",
       "      <td>0.755314</td>\n",
       "      <td>0.753344</td>\n",
       "      <td>5982.567065</td>\n",
       "    </tr>\n",
       "    <tr>\n",
       "      <th>1</th>\n",
       "      <td>Linreg full model with log of target variable</td>\n",
       "      <td>0.762914</td>\n",
       "      <td>0.761006</td>\n",
       "      <td>5982.567065</td>\n",
       "    </tr>\n",
       "    <tr>\n",
       "      <th>2</th>\n",
       "      <td>linreg_with_interaction</td>\n",
       "      <td>0.841378</td>\n",
       "      <td>0.839940</td>\n",
       "      <td>4672.893439</td>\n",
       "    </tr>\n",
       "    <tr>\n",
       "      <th>3</th>\n",
       "      <td>Linear Regression SGD</td>\n",
       "      <td>0.798504</td>\n",
       "      <td>0.792924</td>\n",
       "      <td>5206.181199</td>\n",
       "    </tr>\n",
       "    <tr>\n",
       "      <th>4</th>\n",
       "      <td>Linear Regression SGD using grid search cv</td>\n",
       "      <td>0.831293</td>\n",
       "      <td>0.826621</td>\n",
       "      <td>4763.787160</td>\n",
       "    </tr>\n",
       "    <tr>\n",
       "      <th>5</th>\n",
       "      <td>linreg_model_with_forward_selection</td>\n",
       "      <td>0.926234</td>\n",
       "      <td>0.925864</td>\n",
       "      <td>4813.077788</td>\n",
       "    </tr>\n",
       "    <tr>\n",
       "      <th>6</th>\n",
       "      <td>Linear Regression using SKLearn</td>\n",
       "      <td>0.834516</td>\n",
       "      <td>0.832001</td>\n",
       "      <td>4718.071953</td>\n",
       "    </tr>\n",
       "  </tbody>\n",
       "</table>\n",
       "</div>"
      ],
      "text/plain": [
       "                                         Model_Name  R-Squared  \\\n",
       "0  Linreg full model without log of target variable   0.755314   \n",
       "1     Linreg full model with log of target variable   0.762914   \n",
       "2                           linreg_with_interaction   0.841378   \n",
       "3                             Linear Regression SGD   0.798504   \n",
       "4        Linear Regression SGD using grid search cv   0.831293   \n",
       "5               linreg_model_with_forward_selection   0.926234   \n",
       "6                   Linear Regression using SKLearn   0.834516   \n",
       "\n",
       "   Adj. R-Squared         RMSE  \n",
       "0        0.753344  5982.567065  \n",
       "1        0.761006  5982.567065  \n",
       "2        0.839940  4672.893439  \n",
       "3        0.792924  5206.181199  \n",
       "4        0.826621  4763.787160  \n",
       "5        0.925864  4813.077788  \n",
       "6        0.832001  4718.071953  "
      ]
     },
     "execution_count": 112,
     "metadata": {},
     "output_type": "execute_result"
    }
   ],
   "source": [
    "linreg_sklearn = pd.Series({\n",
    "                     'Model_Name': \"Linear Regression using SKLearn\",\n",
    "                     'RMSE': LR_model_rmse ,\n",
    "                     'R-Squared': LR_model_r_squared,\n",
    "                     'Adj. R-Squared': LR_model_Ad_r_squared   \n",
    "                   })\n",
    "score_card = score_card.append(linreg_sklearn, ignore_index = True)\n",
    "\n",
    "# print the result table\n",
    "score_card"
   ]
  },
  {
   "cell_type": "code",
   "execution_count": null,
   "id": "b82239e3",
   "metadata": {},
   "outputs": [],
   "source": [
    "# To avoid overfitting problem when dealing with any new dataset, we can apply regularisation."
   ]
  },
  {
   "cell_type": "code",
   "execution_count": 113,
   "id": "011361d3",
   "metadata": {},
   "outputs": [],
   "source": [
    "# import function for ridge regression\n",
    "from sklearn.linear_model import Ridge\n",
    "\n",
    "# import function for lasso regression\n",
    "from sklearn.linear_model import Lasso\n",
    "\n",
    "# import function for elastic net regression\n",
    "from sklearn.linear_model import ElasticNet"
   ]
  },
  {
   "cell_type": "markdown",
   "id": "685d8863",
   "metadata": {},
   "source": [
    " It is observed that inflation of the coefficients cause overfitting. To prevent overfitting, it is important to regulate the coefficients by penalizing possible coefficient inflations. Regularization imposes penalties on parameters if they inflate to large values to prevent them from being weighted too heavily. "
   ]
  },
  {
   "cell_type": "code",
   "execution_count": 114,
   "id": "6c55b28b",
   "metadata": {},
   "outputs": [
    {
     "data": {
      "text/plain": [
       "Ridge(alpha=1, max_iter=500)"
      ]
     },
     "execution_count": 114,
     "metadata": {},
     "output_type": "execute_result"
    }
   ],
   "source": [
    "# 'alpha' assigns the regularization strength to the model\n",
    "# 'max_iter' assigns maximum number of iterations for the model to run \n",
    "ridge = Ridge(alpha = 1, max_iter = 500)\n",
    "\n",
    "# fit the model on train set\n",
    "ridge.fit(X_train_interaction, y_train)\n"
   ]
  },
  {
   "cell_type": "code",
   "execution_count": 115,
   "id": "bef704e3",
   "metadata": {},
   "outputs": [],
   "source": [
    "# predict the 'charges' using predict()\n",
    "predicted_charges = ridge.predict(X_test_interaction)\n",
    "\n",
    "# extract the 'charges' values from the test data\n",
    "actual_charges = y_test"
   ]
  },
  {
   "cell_type": "code",
   "execution_count": 116,
   "id": "56257adb",
   "metadata": {},
   "outputs": [],
   "source": [
    "# calculate mse\n",
    "ridge_mse = mean_squared_error(y_test, predicted_charges)\n",
    "\n",
    "# calculate rmse\n",
    "ridge_rmse = np.sqrt(ridge_mse)\n",
    "\n",
    "# calculate R-squared\n",
    "ridge_r2 = r2_score(y_test, predicted_charges)\n",
    "\n",
    "# calculate Adjusted R-squared\n",
    "ridge_adjr2 = 1 - (1-ridge_r2)*(len(y_test)-1)/(len(y_test)- X_test_interaction.shape[1]-1)"
   ]
  },
  {
   "cell_type": "code",
   "execution_count": 117,
   "id": "d94739eb",
   "metadata": {},
   "outputs": [
    {
     "data": {
      "text/html": [
       "<div>\n",
       "<style scoped>\n",
       "    .dataframe tbody tr th:only-of-type {\n",
       "        vertical-align: middle;\n",
       "    }\n",
       "\n",
       "    .dataframe tbody tr th {\n",
       "        vertical-align: top;\n",
       "    }\n",
       "\n",
       "    .dataframe thead th {\n",
       "        text-align: right;\n",
       "    }\n",
       "</style>\n",
       "<table border=\"1\" class=\"dataframe\">\n",
       "  <thead>\n",
       "    <tr style=\"text-align: right;\">\n",
       "      <th></th>\n",
       "      <th>Model_Name</th>\n",
       "      <th>R-Squared</th>\n",
       "      <th>Adj. R-Squared</th>\n",
       "      <th>RMSE</th>\n",
       "    </tr>\n",
       "  </thead>\n",
       "  <tbody>\n",
       "    <tr>\n",
       "      <th>0</th>\n",
       "      <td>Linreg full model without log of target variable</td>\n",
       "      <td>0.755314</td>\n",
       "      <td>0.753344</td>\n",
       "      <td>5982.567065</td>\n",
       "    </tr>\n",
       "    <tr>\n",
       "      <th>1</th>\n",
       "      <td>Linreg full model with log of target variable</td>\n",
       "      <td>0.762914</td>\n",
       "      <td>0.761006</td>\n",
       "      <td>5982.567065</td>\n",
       "    </tr>\n",
       "    <tr>\n",
       "      <th>2</th>\n",
       "      <td>linreg_with_interaction</td>\n",
       "      <td>0.841378</td>\n",
       "      <td>0.839940</td>\n",
       "      <td>4672.893439</td>\n",
       "    </tr>\n",
       "    <tr>\n",
       "      <th>3</th>\n",
       "      <td>Linear Regression SGD</td>\n",
       "      <td>0.798504</td>\n",
       "      <td>0.792924</td>\n",
       "      <td>5206.181199</td>\n",
       "    </tr>\n",
       "    <tr>\n",
       "      <th>4</th>\n",
       "      <td>Linear Regression SGD using grid search cv</td>\n",
       "      <td>0.831293</td>\n",
       "      <td>0.826621</td>\n",
       "      <td>4763.787160</td>\n",
       "    </tr>\n",
       "    <tr>\n",
       "      <th>5</th>\n",
       "      <td>linreg_model_with_forward_selection</td>\n",
       "      <td>0.926234</td>\n",
       "      <td>0.925864</td>\n",
       "      <td>4813.077788</td>\n",
       "    </tr>\n",
       "    <tr>\n",
       "      <th>6</th>\n",
       "      <td>Linear Regression using SKLearn</td>\n",
       "      <td>0.834516</td>\n",
       "      <td>0.832001</td>\n",
       "      <td>4718.071953</td>\n",
       "    </tr>\n",
       "    <tr>\n",
       "      <th>7</th>\n",
       "      <td>Ridge model with alpha 1</td>\n",
       "      <td>0.836871</td>\n",
       "      <td>0.831836</td>\n",
       "      <td>4684.378641</td>\n",
       "    </tr>\n",
       "  </tbody>\n",
       "</table>\n",
       "</div>"
      ],
      "text/plain": [
       "                                         Model_Name  R-Squared  \\\n",
       "0  Linreg full model without log of target variable   0.755314   \n",
       "1     Linreg full model with log of target variable   0.762914   \n",
       "2                           linreg_with_interaction   0.841378   \n",
       "3                             Linear Regression SGD   0.798504   \n",
       "4        Linear Regression SGD using grid search cv   0.831293   \n",
       "5               linreg_model_with_forward_selection   0.926234   \n",
       "6                   Linear Regression using SKLearn   0.834516   \n",
       "7                          Ridge model with alpha 1   0.836871   \n",
       "\n",
       "   Adj. R-Squared         RMSE  \n",
       "0        0.753344  5982.567065  \n",
       "1        0.761006  5982.567065  \n",
       "2        0.839940  4672.893439  \n",
       "3        0.792924  5206.181199  \n",
       "4        0.826621  4763.787160  \n",
       "5        0.925864  4813.077788  \n",
       "6        0.832001  4718.071953  \n",
       "7        0.831836  4684.378641  "
      ]
     },
     "execution_count": 117,
     "metadata": {},
     "output_type": "execute_result"
    }
   ],
   "source": [
    "# compile the required information\n",
    "ridge_model_score = pd.Series({\n",
    "                     'Model_Name': \"Ridge model with alpha 1\",\n",
    "                     'RMSE': ridge_rmse,\n",
    "                     'R-Squared': ridge_r2,\n",
    "                     'Adj. R-Squared': ridge_adjr2     \n",
    "                   })\n",
    "\n",
    "score_card = score_card.append(ridge_model_score, ignore_index = True)\n",
    "\n",
    "# print the result table\n",
    "score_card"
   ]
  },
  {
   "cell_type": "code",
   "execution_count": 118,
   "id": "e38a59e4",
   "metadata": {},
   "outputs": [
    {
     "data": {
      "text/plain": [
       "Ridge(alpha=2)"
      ]
     },
     "execution_count": 118,
     "metadata": {},
     "output_type": "execute_result"
    }
   ],
   "source": [
    "# 'alpha' assigns the regularization strength to the model\n",
    "ridge_2 = Ridge(alpha = 2)\n",
    "\n",
    "# fit the model on train set\n",
    "ridge_2.fit(X_train_interaction, y_train)"
   ]
  },
  {
   "cell_type": "code",
   "execution_count": 119,
   "id": "a1cad26e",
   "metadata": {},
   "outputs": [],
   "source": [
    "# predict the 'charges' using predict()\n",
    "predicted_charges = ridge_2.predict(X_test_interaction)\n",
    "\n",
    "# extract the 'charges' values from the test data\n",
    "actual_charges = y_test"
   ]
  },
  {
   "cell_type": "code",
   "execution_count": 120,
   "id": "a2c3a0d4",
   "metadata": {},
   "outputs": [],
   "source": [
    "# calculate mse\n",
    "ridge_mse = mean_squared_error(y_test, predicted_charges)\n",
    "\n",
    "# calculate rmse\n",
    "ridge_rmse = np.sqrt(ridge_mse)\n",
    "\n",
    "# calculate R-squared\n",
    "ridge_r2 = r2_score(y_test, predicted_charges)\n",
    "\n",
    "# calculate Adjusted R-squared\n",
    "ridge_adjr2 = 1 - (1-ridge_r2)*(len(y_test)-1)/(len(y_test)- X_test_interaction.shape[1]-1)"
   ]
  },
  {
   "cell_type": "code",
   "execution_count": 122,
   "id": "837a7feb",
   "metadata": {},
   "outputs": [
    {
     "data": {
      "text/html": [
       "<div>\n",
       "<style scoped>\n",
       "    .dataframe tbody tr th:only-of-type {\n",
       "        vertical-align: middle;\n",
       "    }\n",
       "\n",
       "    .dataframe tbody tr th {\n",
       "        vertical-align: top;\n",
       "    }\n",
       "\n",
       "    .dataframe thead th {\n",
       "        text-align: right;\n",
       "    }\n",
       "</style>\n",
       "<table border=\"1\" class=\"dataframe\">\n",
       "  <thead>\n",
       "    <tr style=\"text-align: right;\">\n",
       "      <th></th>\n",
       "      <th>Model_Name</th>\n",
       "      <th>R-Squared</th>\n",
       "      <th>Adj. R-Squared</th>\n",
       "      <th>RMSE</th>\n",
       "    </tr>\n",
       "  </thead>\n",
       "  <tbody>\n",
       "    <tr>\n",
       "      <th>0</th>\n",
       "      <td>Linreg full model without log of target variable</td>\n",
       "      <td>0.755314</td>\n",
       "      <td>0.753344</td>\n",
       "      <td>5982.567065</td>\n",
       "    </tr>\n",
       "    <tr>\n",
       "      <th>1</th>\n",
       "      <td>Linreg full model with log of target variable</td>\n",
       "      <td>0.762914</td>\n",
       "      <td>0.761006</td>\n",
       "      <td>5982.567065</td>\n",
       "    </tr>\n",
       "    <tr>\n",
       "      <th>2</th>\n",
       "      <td>linreg_with_interaction</td>\n",
       "      <td>0.841378</td>\n",
       "      <td>0.839940</td>\n",
       "      <td>4672.893439</td>\n",
       "    </tr>\n",
       "    <tr>\n",
       "      <th>3</th>\n",
       "      <td>Linear Regression SGD</td>\n",
       "      <td>0.798504</td>\n",
       "      <td>0.792924</td>\n",
       "      <td>5206.181199</td>\n",
       "    </tr>\n",
       "    <tr>\n",
       "      <th>4</th>\n",
       "      <td>Linear Regression SGD using grid search cv</td>\n",
       "      <td>0.831293</td>\n",
       "      <td>0.826621</td>\n",
       "      <td>4763.787160</td>\n",
       "    </tr>\n",
       "    <tr>\n",
       "      <th>5</th>\n",
       "      <td>linreg_model_with_forward_selection</td>\n",
       "      <td>0.926234</td>\n",
       "      <td>0.925864</td>\n",
       "      <td>4813.077788</td>\n",
       "    </tr>\n",
       "    <tr>\n",
       "      <th>6</th>\n",
       "      <td>Linear Regression using SKLearn</td>\n",
       "      <td>0.834516</td>\n",
       "      <td>0.832001</td>\n",
       "      <td>4718.071953</td>\n",
       "    </tr>\n",
       "    <tr>\n",
       "      <th>7</th>\n",
       "      <td>Ridge model with alpha 1</td>\n",
       "      <td>0.836871</td>\n",
       "      <td>0.831836</td>\n",
       "      <td>4684.378641</td>\n",
       "    </tr>\n",
       "    <tr>\n",
       "      <th>8</th>\n",
       "      <td>Ridge model with alpha 2</td>\n",
       "      <td>0.835770</td>\n",
       "      <td>0.830701</td>\n",
       "      <td>4700.157107</td>\n",
       "    </tr>\n",
       "  </tbody>\n",
       "</table>\n",
       "</div>"
      ],
      "text/plain": [
       "                                         Model_Name  R-Squared  \\\n",
       "0  Linreg full model without log of target variable   0.755314   \n",
       "1     Linreg full model with log of target variable   0.762914   \n",
       "2                           linreg_with_interaction   0.841378   \n",
       "3                             Linear Regression SGD   0.798504   \n",
       "4        Linear Regression SGD using grid search cv   0.831293   \n",
       "5               linreg_model_with_forward_selection   0.926234   \n",
       "6                   Linear Regression using SKLearn   0.834516   \n",
       "7                          Ridge model with alpha 1   0.836871   \n",
       "8                          Ridge model with alpha 2   0.835770   \n",
       "\n",
       "   Adj. R-Squared         RMSE  \n",
       "0        0.753344  5982.567065  \n",
       "1        0.761006  5982.567065  \n",
       "2        0.839940  4672.893439  \n",
       "3        0.792924  5206.181199  \n",
       "4        0.826621  4763.787160  \n",
       "5        0.925864  4813.077788  \n",
       "6        0.832001  4718.071953  \n",
       "7        0.831836  4684.378641  \n",
       "8        0.830701  4700.157107  "
      ]
     },
     "execution_count": 122,
     "metadata": {},
     "output_type": "execute_result"
    }
   ],
   "source": [
    "ridge_model_score = pd.Series({\n",
    "                     'Model_Name': \"Ridge model with alpha 2\",\n",
    "                     'RMSE': ridge_rmse,\n",
    "                     'R-Squared': ridge_r2,\n",
    "                     'Adj. R-Squared': ridge_adjr2     \n",
    "                   })\n",
    "score_card = score_card.append(ridge_model_score, ignore_index = True)\n",
    "\n",
    "# print the result table\n",
    "score_card"
   ]
  },
  {
   "cell_type": "markdown",
   "id": "072109ca",
   "metadata": {},
   "source": [
    "**As we can see that Ridge model with alpha 1 is performing better than the model with high alpha, this indicates that less penalization effect is better for this data."
   ]
  },
  {
   "cell_type": "code",
   "execution_count": 123,
   "id": "e8d43004",
   "metadata": {},
   "outputs": [
    {
     "data": {
      "text/plain": [
       "Lasso(alpha=0.1, max_iter=500)"
      ]
     },
     "execution_count": 123,
     "metadata": {},
     "output_type": "execute_result"
    }
   ],
   "source": [
    "lasso = Lasso(alpha = 0.1, max_iter = 500)\n",
    "\n",
    "# fit the model on train set\n",
    "lasso.fit(X_train_interaction, y_train)"
   ]
  },
  {
   "cell_type": "code",
   "execution_count": 124,
   "id": "f51f141d",
   "metadata": {},
   "outputs": [],
   "source": [
    "# predict the 'charges' using predict()\n",
    "predicted_charges = lasso.predict(X_test_interaction)\n",
    "\n",
    "# extract the 'charges' values from the test data\n",
    "actual_charges = y_test"
   ]
  },
  {
   "cell_type": "code",
   "execution_count": 125,
   "id": "2657b2b2",
   "metadata": {},
   "outputs": [],
   "source": [
    "# calculate mse\n",
    "lasso_mse = mean_squared_error(y_test, predicted_charges)\n",
    "\n",
    "# calculate rmse\n",
    "lasso_rmse = np.sqrt(lasso_mse)\n",
    "\n",
    "# calculate R-squared\n",
    "lasso_r2 = r2_score(y_test, predicted_charges)\n",
    "\n",
    "# calculate Adjusted R-squared\n",
    "lasso_adjr2 = 1 - (1-lasso_r2)*(len(y_test)-1)/(len(y_test)- X_test_interaction.shape[1]-1)"
   ]
  },
  {
   "cell_type": "code",
   "execution_count": 126,
   "id": "7ad8de90",
   "metadata": {},
   "outputs": [
    {
     "data": {
      "text/html": [
       "<div>\n",
       "<style scoped>\n",
       "    .dataframe tbody tr th:only-of-type {\n",
       "        vertical-align: middle;\n",
       "    }\n",
       "\n",
       "    .dataframe tbody tr th {\n",
       "        vertical-align: top;\n",
       "    }\n",
       "\n",
       "    .dataframe thead th {\n",
       "        text-align: right;\n",
       "    }\n",
       "</style>\n",
       "<table border=\"1\" class=\"dataframe\">\n",
       "  <thead>\n",
       "    <tr style=\"text-align: right;\">\n",
       "      <th></th>\n",
       "      <th>Model_Name</th>\n",
       "      <th>R-Squared</th>\n",
       "      <th>Adj. R-Squared</th>\n",
       "      <th>RMSE</th>\n",
       "    </tr>\n",
       "  </thead>\n",
       "  <tbody>\n",
       "    <tr>\n",
       "      <th>0</th>\n",
       "      <td>Linreg full model without log of target variable</td>\n",
       "      <td>0.755314</td>\n",
       "      <td>0.753344</td>\n",
       "      <td>5982.567065</td>\n",
       "    </tr>\n",
       "    <tr>\n",
       "      <th>1</th>\n",
       "      <td>Linreg full model with log of target variable</td>\n",
       "      <td>0.762914</td>\n",
       "      <td>0.761006</td>\n",
       "      <td>5982.567065</td>\n",
       "    </tr>\n",
       "    <tr>\n",
       "      <th>2</th>\n",
       "      <td>linreg_with_interaction</td>\n",
       "      <td>0.841378</td>\n",
       "      <td>0.839940</td>\n",
       "      <td>4672.893439</td>\n",
       "    </tr>\n",
       "    <tr>\n",
       "      <th>3</th>\n",
       "      <td>Linear Regression SGD</td>\n",
       "      <td>0.798504</td>\n",
       "      <td>0.792924</td>\n",
       "      <td>5206.181199</td>\n",
       "    </tr>\n",
       "    <tr>\n",
       "      <th>4</th>\n",
       "      <td>Linear Regression SGD using grid search cv</td>\n",
       "      <td>0.831293</td>\n",
       "      <td>0.826621</td>\n",
       "      <td>4763.787160</td>\n",
       "    </tr>\n",
       "    <tr>\n",
       "      <th>5</th>\n",
       "      <td>linreg_model_with_forward_selection</td>\n",
       "      <td>0.926234</td>\n",
       "      <td>0.925864</td>\n",
       "      <td>4813.077788</td>\n",
       "    </tr>\n",
       "    <tr>\n",
       "      <th>6</th>\n",
       "      <td>Linear Regression using SKLearn</td>\n",
       "      <td>0.834516</td>\n",
       "      <td>0.832001</td>\n",
       "      <td>4718.071953</td>\n",
       "    </tr>\n",
       "    <tr>\n",
       "      <th>7</th>\n",
       "      <td>Ridge model with alpha 1</td>\n",
       "      <td>0.836871</td>\n",
       "      <td>0.831836</td>\n",
       "      <td>4684.378641</td>\n",
       "    </tr>\n",
       "    <tr>\n",
       "      <th>8</th>\n",
       "      <td>Ridge model with alpha 2</td>\n",
       "      <td>0.835770</td>\n",
       "      <td>0.830701</td>\n",
       "      <td>4700.157107</td>\n",
       "    </tr>\n",
       "    <tr>\n",
       "      <th>9</th>\n",
       "      <td>Lasso model</td>\n",
       "      <td>0.837664</td>\n",
       "      <td>0.832653</td>\n",
       "      <td>4672.980574</td>\n",
       "    </tr>\n",
       "  </tbody>\n",
       "</table>\n",
       "</div>"
      ],
      "text/plain": [
       "                                         Model_Name  R-Squared  \\\n",
       "0  Linreg full model without log of target variable   0.755314   \n",
       "1     Linreg full model with log of target variable   0.762914   \n",
       "2                           linreg_with_interaction   0.841378   \n",
       "3                             Linear Regression SGD   0.798504   \n",
       "4        Linear Regression SGD using grid search cv   0.831293   \n",
       "5               linreg_model_with_forward_selection   0.926234   \n",
       "6                   Linear Regression using SKLearn   0.834516   \n",
       "7                          Ridge model with alpha 1   0.836871   \n",
       "8                          Ridge model with alpha 2   0.835770   \n",
       "9                                       Lasso model   0.837664   \n",
       "\n",
       "   Adj. R-Squared         RMSE  \n",
       "0        0.753344  5982.567065  \n",
       "1        0.761006  5982.567065  \n",
       "2        0.839940  4672.893439  \n",
       "3        0.792924  5206.181199  \n",
       "4        0.826621  4763.787160  \n",
       "5        0.925864  4813.077788  \n",
       "6        0.832001  4718.071953  \n",
       "7        0.831836  4684.378641  \n",
       "8        0.830701  4700.157107  \n",
       "9        0.832653  4672.980574  "
      ]
     },
     "execution_count": 126,
     "metadata": {},
     "output_type": "execute_result"
    }
   ],
   "source": [
    "lasso_model_score = pd.Series({\n",
    "                     'Model_Name': \"Lasso model\",\n",
    "                     'RMSE': lasso_rmse,\n",
    "                     'R-Squared': lasso_r2,\n",
    "                     'Adj. R-Squared': lasso_adjr2     \n",
    "                   })\n",
    "\n",
    "score_card = score_card.append(lasso_model_score, ignore_index = True)\n",
    "\n",
    "# print the result table\n",
    "score_card"
   ]
  },
  {
   "cell_type": "markdown",
   "id": "d8e29dd6",
   "metadata": {},
   "source": [
    "**As we can see that Lasso model has reduced the rmse value more when we compared it to the Ridge model. \n",
    "but we also have to visualising which model is supressing coefficients more"
   ]
  },
  {
   "cell_type": "code",
   "execution_count": 131,
   "id": "bc4e96f6",
   "metadata": {},
   "outputs": [
    {
     "ename": "NameError",
     "evalue": "name 'plot_coefficients' is not defined",
     "output_type": "error",
     "traceback": [
      "\u001b[1;31m---------------------------------------------------------------------------\u001b[0m",
      "\u001b[1;31mNameError\u001b[0m                                 Traceback (most recent call last)",
      "\u001b[1;32m~\\AppData\\Local\\Temp/ipykernel_40396/1194101452.py\u001b[0m in \u001b[0;36m<module>\u001b[1;34m\u001b[0m\n\u001b[0;32m      1\u001b[0m \u001b[0mplt\u001b[0m\u001b[1;33m.\u001b[0m\u001b[0msubplot\u001b[0m\u001b[1;33m(\u001b[0m\u001b[1;36m1\u001b[0m\u001b[1;33m,\u001b[0m\u001b[1;36m2\u001b[0m\u001b[1;33m,\u001b[0m\u001b[1;36m1\u001b[0m\u001b[1;33m)\u001b[0m\u001b[1;33m\u001b[0m\u001b[1;33m\u001b[0m\u001b[0m\n\u001b[1;32m----> 2\u001b[1;33m \u001b[0mplot_coefficients\u001b[0m\u001b[1;33m(\u001b[0m\u001b[0mridge\u001b[0m\u001b[1;33m,\u001b[0m \u001b[1;34m'Ridge Regression'\u001b[0m\u001b[1;33m,\u001b[0m\u001b[1;32mFalse\u001b[0m\u001b[1;33m)\u001b[0m\u001b[1;33m\u001b[0m\u001b[1;33m\u001b[0m\u001b[0m\n\u001b[0m\u001b[0;32m      3\u001b[0m \u001b[1;33m\u001b[0m\u001b[0m\n\u001b[0;32m      4\u001b[0m \u001b[1;31m# pass the index of the plot as the third parameter of subplot()\u001b[0m\u001b[1;33m\u001b[0m\u001b[1;33m\u001b[0m\u001b[0m\n\u001b[0;32m      5\u001b[0m \u001b[0mplt\u001b[0m\u001b[1;33m.\u001b[0m\u001b[0msubplot\u001b[0m\u001b[1;33m(\u001b[0m\u001b[1;36m1\u001b[0m\u001b[1;33m,\u001b[0m\u001b[1;36m2\u001b[0m\u001b[1;33m,\u001b[0m\u001b[1;36m2\u001b[0m\u001b[1;33m)\u001b[0m\u001b[1;33m\u001b[0m\u001b[1;33m\u001b[0m\u001b[0m\n",
      "\u001b[1;31mNameError\u001b[0m: name 'plot_coefficients' is not defined"
     ]
    },
    {
     "data": {
      "image/png": "[encoded data removed]",
      "text/plain": [
       "<Figure size 432x288 with 1 Axes>"
      ]
     },
     "metadata": {
      "needs_background": "light"
     },
     "output_type": "display_data"
    }
   ],
   "source": [
    "plt.subplot(1,2,1)\n",
    "plot_coefficients(ridge, 'Ridge Regression',False)\n",
    "\n",
    "# pass the index of the plot as the third parameter of subplot()\n",
    "plt.subplot(1,2,2)\n",
    "plot_coefficients(lasso, 'Lasso Regression',False)\n",
    "\n",
    "# to adjust the subplots\n",
    "plt.tight_layout()\n",
    "\n",
    "# display the plot\n",
    "plt.show()"
   ]
  },
  {
   "cell_type": "markdown",
   "id": "cdef03ef",
   "metadata": {},
   "source": [
    "Elastic net technique is a combination of Rigde and Lasso reression techniques. It considers the linear combination of penalties for L1 and L2 regularization."
   ]
  },
  {
   "cell_type": "code",
   "execution_count": 127,
   "id": "65cbdf48",
   "metadata": {},
   "outputs": [
    {
     "data": {
      "text/plain": [
       "ElasticNet(alpha=0.1, l1_ratio=0.01, max_iter=500)"
      ]
     },
     "execution_count": 127,
     "metadata": {},
     "output_type": "execute_result"
    }
   ],
   "source": [
    "enet = ElasticNet(alpha = 0.1, l1_ratio = 0.01, max_iter = 500)\n",
    "\n",
    "# fit the model on train data\n",
    "enet.fit(X_train_interaction, y_train)"
   ]
  },
  {
   "cell_type": "code",
   "execution_count": 128,
   "id": "9116d59b",
   "metadata": {},
   "outputs": [],
   "source": [
    "# predict the 'charges' using predict()\n",
    "predicted_charges = enet.predict(X_test_interaction)\n",
    "\n",
    "# extract the 'charges' values from the test data\n",
    "actual_charges = y_test"
   ]
  },
  {
   "cell_type": "code",
   "execution_count": 129,
   "id": "7bb7e387",
   "metadata": {},
   "outputs": [],
   "source": [
    "# calculate mse\n",
    "enet_mse = mean_squared_error(y_test, predicted_charges)\n",
    "\n",
    "# calculate rmse\n",
    "enet_rmse = np.sqrt(enet_mse)\n",
    "\n",
    "# calculate R-squared\n",
    "enet_r2 = r2_score(y_test, predicted_charges)\n",
    "\n",
    "# calculate Adjusted R-squared\n",
    "enet_adjr2 = 1 - (1-enet_r2)*(len(y_test)-1)/(len(y_test)- X_test_interaction.shape[1]-1)"
   ]
  },
  {
   "cell_type": "code",
   "execution_count": 130,
   "id": "f137b998",
   "metadata": {},
   "outputs": [
    {
     "data": {
      "text/html": [
       "<div>\n",
       "<style scoped>\n",
       "    .dataframe tbody tr th:only-of-type {\n",
       "        vertical-align: middle;\n",
       "    }\n",
       "\n",
       "    .dataframe tbody tr th {\n",
       "        vertical-align: top;\n",
       "    }\n",
       "\n",
       "    .dataframe thead th {\n",
       "        text-align: right;\n",
       "    }\n",
       "</style>\n",
       "<table border=\"1\" class=\"dataframe\">\n",
       "  <thead>\n",
       "    <tr style=\"text-align: right;\">\n",
       "      <th></th>\n",
       "      <th>Model_Name</th>\n",
       "      <th>R-Squared</th>\n",
       "      <th>Adj. R-Squared</th>\n",
       "      <th>RMSE</th>\n",
       "    </tr>\n",
       "  </thead>\n",
       "  <tbody>\n",
       "    <tr>\n",
       "      <th>0</th>\n",
       "      <td>Linreg full model without log of target variable</td>\n",
       "      <td>0.755314</td>\n",
       "      <td>0.753344</td>\n",
       "      <td>5982.567065</td>\n",
       "    </tr>\n",
       "    <tr>\n",
       "      <th>1</th>\n",
       "      <td>Linreg full model with log of target variable</td>\n",
       "      <td>0.762914</td>\n",
       "      <td>0.761006</td>\n",
       "      <td>5982.567065</td>\n",
       "    </tr>\n",
       "    <tr>\n",
       "      <th>2</th>\n",
       "      <td>linreg_with_interaction</td>\n",
       "      <td>0.841378</td>\n",
       "      <td>0.839940</td>\n",
       "      <td>4672.893439</td>\n",
       "    </tr>\n",
       "    <tr>\n",
       "      <th>3</th>\n",
       "      <td>Linear Regression SGD</td>\n",
       "      <td>0.798504</td>\n",
       "      <td>0.792924</td>\n",
       "      <td>5206.181199</td>\n",
       "    </tr>\n",
       "    <tr>\n",
       "      <th>4</th>\n",
       "      <td>Linear Regression SGD using grid search cv</td>\n",
       "      <td>0.831293</td>\n",
       "      <td>0.826621</td>\n",
       "      <td>4763.787160</td>\n",
       "    </tr>\n",
       "    <tr>\n",
       "      <th>5</th>\n",
       "      <td>linreg_model_with_forward_selection</td>\n",
       "      <td>0.926234</td>\n",
       "      <td>0.925864</td>\n",
       "      <td>4813.077788</td>\n",
       "    </tr>\n",
       "    <tr>\n",
       "      <th>6</th>\n",
       "      <td>Linear Regression using SKLearn</td>\n",
       "      <td>0.834516</td>\n",
       "      <td>0.832001</td>\n",
       "      <td>4718.071953</td>\n",
       "    </tr>\n",
       "    <tr>\n",
       "      <th>7</th>\n",
       "      <td>Ridge model with alpha 1</td>\n",
       "      <td>0.836871</td>\n",
       "      <td>0.831836</td>\n",
       "      <td>4684.378641</td>\n",
       "    </tr>\n",
       "    <tr>\n",
       "      <th>8</th>\n",
       "      <td>Ridge model with alpha 2</td>\n",
       "      <td>0.835770</td>\n",
       "      <td>0.830701</td>\n",
       "      <td>4700.157107</td>\n",
       "    </tr>\n",
       "    <tr>\n",
       "      <th>9</th>\n",
       "      <td>Lasso model</td>\n",
       "      <td>0.837664</td>\n",
       "      <td>0.832653</td>\n",
       "      <td>4672.980574</td>\n",
       "    </tr>\n",
       "    <tr>\n",
       "      <th>10</th>\n",
       "      <td>Elastic Net model</td>\n",
       "      <td>0.816043</td>\n",
       "      <td>0.810365</td>\n",
       "      <td>4974.439340</td>\n",
       "    </tr>\n",
       "  </tbody>\n",
       "</table>\n",
       "</div>"
      ],
      "text/plain": [
       "                                          Model_Name  R-Squared  \\\n",
       "0   Linreg full model without log of target variable   0.755314   \n",
       "1      Linreg full model with log of target variable   0.762914   \n",
       "2                            linreg_with_interaction   0.841378   \n",
       "3                              Linear Regression SGD   0.798504   \n",
       "4         Linear Regression SGD using grid search cv   0.831293   \n",
       "5                linreg_model_with_forward_selection   0.926234   \n",
       "6                    Linear Regression using SKLearn   0.834516   \n",
       "7                           Ridge model with alpha 1   0.836871   \n",
       "8                           Ridge model with alpha 2   0.835770   \n",
       "9                                        Lasso model   0.837664   \n",
       "10                                 Elastic Net model   0.816043   \n",
       "\n",
       "    Adj. R-Squared         RMSE  \n",
       "0         0.753344  5982.567065  \n",
       "1         0.761006  5982.567065  \n",
       "2         0.839940  4672.893439  \n",
       "3         0.792924  5206.181199  \n",
       "4         0.826621  4763.787160  \n",
       "5         0.925864  4813.077788  \n",
       "6         0.832001  4718.071953  \n",
       "7         0.831836  4684.378641  \n",
       "8         0.830701  4700.157107  \n",
       "9         0.832653  4672.980574  \n",
       "10        0.810365  4974.439340  "
      ]
     },
     "execution_count": 130,
     "metadata": {},
     "output_type": "execute_result"
    }
   ],
   "source": [
    "enet_model_score = pd.Series({\n",
    "                     'Model_Name': \"Elastic Net model\",\n",
    "                     'RMSE': enet_rmse,\n",
    "                     'R-Squared': enet_r2,\n",
    "                     'Adj. R-Squared': enet_adjr2     \n",
    "                   })\n",
    "\n",
    "score_card = score_card.append(enet_model_score, ignore_index = True)\n",
    "\n",
    "# print the result table\n",
    "score_card"
   ]
  },
  {
   "cell_type": "code",
   "execution_count": null,
   "id": "51395888",
   "metadata": {},
   "outputs": [],
   "source": [
    "#As we can see that Lasso model has reduced the rmse value more when we compared it to the Ridge and elastic model. "
   ]
  },
  {
   "cell_type": "code",
   "execution_count": null,
   "id": "e3683485",
   "metadata": {},
   "outputs": [],
   "source": [
    "## Hyperparameter tuning to find the best learning rate for the lasso model"
   ]
  },
  {
   "cell_type": "code",
   "execution_count": 132,
   "id": "7deefa82",
   "metadata": {},
   "outputs": [
    {
     "name": "stdout",
     "output_type": "stream",
     "text": [
      "Best parameters for lasso Regression:  {'alpha': 0.1} \n",
      "\n"
     ]
    }
   ],
   "source": [
    "tuned_paramaters = [{'alpha':[1e-15, 1e-10, 1e-8, 1e-4,1e-3, 1e-2, 0.1, 1, 5, 10, 20, 40, 60, 80, 100]}]\n",
    "lasso = Lasso()\n",
    "lasso_grid = GridSearchCV(estimator =lasso, \n",
    "                          param_grid = tuned_paramaters, \n",
    "                          cv = 10)\n",
    "lasso_grid.fit(X_train_interaction, y_train)\n",
    "print('Best parameters for lasso Regression: ', lasso_grid.best_params_, '\\n')"
   ]
  },
  {
   "cell_type": "code",
   "execution_count": null,
   "id": "99fded5f",
   "metadata": {},
   "outputs": [],
   "source": [
    "#build the lasso model with an alpha of 0.1"
   ]
  },
  {
   "cell_type": "code",
   "execution_count": 133,
   "id": "31839ffb",
   "metadata": {},
   "outputs": [
    {
     "data": {
      "text/plain": [
       "Lasso(alpha=0.1, max_iter=500)"
      ]
     },
     "execution_count": 133,
     "metadata": {},
     "output_type": "execute_result"
    }
   ],
   "source": [
    "lasso_best_alpha = Lasso(alpha = 0.1, max_iter = 500)\n",
    "\n",
    "# fit the model on train set\n",
    "lasso_best_alpha.fit(X_train_interaction, y_train)"
   ]
  },
  {
   "cell_type": "code",
   "execution_count": 134,
   "id": "613fc1cb",
   "metadata": {},
   "outputs": [],
   "source": [
    "# predict the 'charges' using predict()\n",
    "predicted_charges = lasso_best_alpha.predict(X_test_interaction)\n",
    "\n",
    "# extract the 'charges' values from the test data\n",
    "actual_charges = y_test"
   ]
  },
  {
   "cell_type": "code",
   "execution_count": 135,
   "id": "83db66df",
   "metadata": {},
   "outputs": [],
   "source": [
    "# calculate mse\n",
    "lasso_mse = mean_squared_error(y_test, predicted_charges)\n",
    "\n",
    "# calculate rmse\n",
    "lasso_rmse = np.sqrt(ridge_mse)\n",
    "\n",
    "# calculate R-squared\n",
    "lasso_r2 = r2_score(y_test, predicted_charges)\n",
    "\n",
    "# calculate Adjusted R-squared\n",
    "lasso_adjr2 = 1 - (1-ridge_r2)*(len(y_test)-1)/(len(y_test)- X_test_interaction.shape[1]-1)"
   ]
  },
  {
   "cell_type": "code",
   "execution_count": null,
   "id": "3cd738c8",
   "metadata": {},
   "outputs": [],
   "source": []
  },
  {
   "cell_type": "code",
   "execution_count": 136,
   "id": "35adc206",
   "metadata": {},
   "outputs": [
    {
     "data": {
      "text/html": [
       "<div>\n",
       "<style scoped>\n",
       "    .dataframe tbody tr th:only-of-type {\n",
       "        vertical-align: middle;\n",
       "    }\n",
       "\n",
       "    .dataframe tbody tr th {\n",
       "        vertical-align: top;\n",
       "    }\n",
       "\n",
       "    .dataframe thead th {\n",
       "        text-align: right;\n",
       "    }\n",
       "</style>\n",
       "<table border=\"1\" class=\"dataframe\">\n",
       "  <thead>\n",
       "    <tr style=\"text-align: right;\">\n",
       "      <th></th>\n",
       "      <th>Model_Name</th>\n",
       "      <th>R-Squared</th>\n",
       "      <th>Adj. R-Squared</th>\n",
       "      <th>RMSE</th>\n",
       "    </tr>\n",
       "  </thead>\n",
       "  <tbody>\n",
       "    <tr>\n",
       "      <th>0</th>\n",
       "      <td>Linreg full model without log of target variable</td>\n",
       "      <td>0.755314</td>\n",
       "      <td>0.753344</td>\n",
       "      <td>5982.567065</td>\n",
       "    </tr>\n",
       "    <tr>\n",
       "      <th>1</th>\n",
       "      <td>Linreg full model with log of target variable</td>\n",
       "      <td>0.762914</td>\n",
       "      <td>0.761006</td>\n",
       "      <td>5982.567065</td>\n",
       "    </tr>\n",
       "    <tr>\n",
       "      <th>2</th>\n",
       "      <td>linreg_with_interaction</td>\n",
       "      <td>0.841378</td>\n",
       "      <td>0.839940</td>\n",
       "      <td>4672.893439</td>\n",
       "    </tr>\n",
       "    <tr>\n",
       "      <th>3</th>\n",
       "      <td>Linear Regression SGD</td>\n",
       "      <td>0.798504</td>\n",
       "      <td>0.792924</td>\n",
       "      <td>5206.181199</td>\n",
       "    </tr>\n",
       "    <tr>\n",
       "      <th>4</th>\n",
       "      <td>Linear Regression SGD using grid search cv</td>\n",
       "      <td>0.831293</td>\n",
       "      <td>0.826621</td>\n",
       "      <td>4763.787160</td>\n",
       "    </tr>\n",
       "    <tr>\n",
       "      <th>5</th>\n",
       "      <td>linreg_model_with_forward_selection</td>\n",
       "      <td>0.926234</td>\n",
       "      <td>0.925864</td>\n",
       "      <td>4813.077788</td>\n",
       "    </tr>\n",
       "    <tr>\n",
       "      <th>6</th>\n",
       "      <td>Linear Regression using SKLearn</td>\n",
       "      <td>0.834516</td>\n",
       "      <td>0.832001</td>\n",
       "      <td>4718.071953</td>\n",
       "    </tr>\n",
       "    <tr>\n",
       "      <th>7</th>\n",
       "      <td>Ridge model with alpha 1</td>\n",
       "      <td>0.836871</td>\n",
       "      <td>0.831836</td>\n",
       "      <td>4684.378641</td>\n",
       "    </tr>\n",
       "    <tr>\n",
       "      <th>8</th>\n",
       "      <td>Ridge model with alpha 2</td>\n",
       "      <td>0.835770</td>\n",
       "      <td>0.830701</td>\n",
       "      <td>4700.157107</td>\n",
       "    </tr>\n",
       "    <tr>\n",
       "      <th>9</th>\n",
       "      <td>Lasso model</td>\n",
       "      <td>0.837664</td>\n",
       "      <td>0.832653</td>\n",
       "      <td>4672.980574</td>\n",
       "    </tr>\n",
       "    <tr>\n",
       "      <th>10</th>\n",
       "      <td>Elastic Net model</td>\n",
       "      <td>0.816043</td>\n",
       "      <td>0.810365</td>\n",
       "      <td>4974.439340</td>\n",
       "    </tr>\n",
       "    <tr>\n",
       "      <th>11</th>\n",
       "      <td>lasso model with alpha 0.1</td>\n",
       "      <td>0.837664</td>\n",
       "      <td>0.830701</td>\n",
       "      <td>4700.157107</td>\n",
       "    </tr>\n",
       "  </tbody>\n",
       "</table>\n",
       "</div>"
      ],
      "text/plain": [
       "                                          Model_Name  R-Squared  \\\n",
       "0   Linreg full model without log of target variable   0.755314   \n",
       "1      Linreg full model with log of target variable   0.762914   \n",
       "2                            linreg_with_interaction   0.841378   \n",
       "3                              Linear Regression SGD   0.798504   \n",
       "4         Linear Regression SGD using grid search cv   0.831293   \n",
       "5                linreg_model_with_forward_selection   0.926234   \n",
       "6                    Linear Regression using SKLearn   0.834516   \n",
       "7                           Ridge model with alpha 1   0.836871   \n",
       "8                           Ridge model with alpha 2   0.835770   \n",
       "9                                        Lasso model   0.837664   \n",
       "10                                 Elastic Net model   0.816043   \n",
       "11                        lasso model with alpha 0.1   0.837664   \n",
       "\n",
       "    Adj. R-Squared         RMSE  \n",
       "0         0.753344  5982.567065  \n",
       "1         0.761006  5982.567065  \n",
       "2         0.839940  4672.893439  \n",
       "3         0.792924  5206.181199  \n",
       "4         0.826621  4763.787160  \n",
       "5         0.925864  4813.077788  \n",
       "6         0.832001  4718.071953  \n",
       "7         0.831836  4684.378641  \n",
       "8         0.830701  4700.157107  \n",
       "9         0.832653  4672.980574  \n",
       "10        0.810365  4974.439340  \n",
       "11        0.830701  4700.157107  "
      ]
     },
     "execution_count": 136,
     "metadata": {},
     "output_type": "execute_result"
    }
   ],
   "source": [
    "lasso_model_score = pd.Series({\n",
    "                     'Model_Name': \"lasso model with alpha 0.1\",\n",
    "                     'RMSE': lasso_rmse,\n",
    "                     'R-Squared': lasso_r2,\n",
    "                     'Adj. R-Squared': lasso_adjr2     \n",
    "                   })\n",
    "\n",
    "score_card = score_card.append(lasso_model_score, ignore_index = True)\n",
    "\n",
    "# print the result table\n",
    "score_card"
   ]
  },
  {
   "cell_type": "markdown",
   "id": "f3f525c3",
   "metadata": {},
   "source": [
    "Cross-validation is a resampling technique used in machine learning to assess how well a model will generalize to an independent dataset. It helps in evaluating a model's performance by splitting the dataset into multiple subsets, training the model on some of these subsets, and testing it on the remaining data."
   ]
  },
  {
   "cell_type": "code",
   "execution_count": 140,
   "id": "cd22a31f",
   "metadata": {},
   "outputs": [
    {
     "name": "stderr",
     "output_type": "stream",
     "text": [
      "[Parallel(n_jobs=-1)]: Using backend LokyBackend with 4 concurrent workers.\n",
      "[Parallel(n_jobs=-1)]: Done   6 out of   8 | elapsed:    4.4s remaining:    1.4s\n"
     ]
    },
    {
     "ename": "TerminatedWorkerError",
     "evalue": "A worker process managed by the executor was unexpectedly terminated. This could be caused by a segmentation fault while calling the function or by an excessive memory usage causing the Operating System to kill the worker.\n",
     "output_type": "error",
     "traceback": [
      "\u001b[1;31m---------------------------------------------------------------------------\u001b[0m",
      "\u001b[1;31mTerminatedWorkerError\u001b[0m                     Traceback (most recent call last)",
      "\u001b[1;32m~\\AppData\\Local\\Temp/ipykernel_40396/1815345633.py\u001b[0m in \u001b[0;36m<module>\u001b[1;34m\u001b[0m\n\u001b[0;32m      4\u001b[0m \u001b[1;33m\u001b[0m\u001b[0m\n\u001b[0;32m      5\u001b[0m \u001b[1;31m# Perform cross-validation on the subset\u001b[0m\u001b[1;33m\u001b[0m\u001b[1;33m\u001b[0m\u001b[0m\n\u001b[1;32m----> 6\u001b[1;33m \u001b[0mscores\u001b[0m \u001b[1;33m=\u001b[0m \u001b[0mcross_val_score\u001b[0m\u001b[1;33m(\u001b[0m\u001b[0mlasso\u001b[0m\u001b[1;33m,\u001b[0m \u001b[0mX\u001b[0m\u001b[1;33m=\u001b[0m\u001b[0mX_train_subset\u001b[0m\u001b[1;33m,\u001b[0m \u001b[0my\u001b[0m\u001b[1;33m=\u001b[0m\u001b[0my_train_subset\u001b[0m\u001b[1;33m,\u001b[0m \u001b[0mcv\u001b[0m\u001b[1;33m=\u001b[0m\u001b[1;36m10\u001b[0m\u001b[1;33m,\u001b[0m \u001b[0mscoring\u001b[0m\u001b[1;33m=\u001b[0m\u001b[1;34m'r2'\u001b[0m\u001b[1;33m,\u001b[0m \u001b[0mn_jobs\u001b[0m\u001b[1;33m=\u001b[0m\u001b[1;33m-\u001b[0m\u001b[1;36m1\u001b[0m\u001b[1;33m,\u001b[0m \u001b[0mverbose\u001b[0m\u001b[1;33m=\u001b[0m\u001b[1;36m2\u001b[0m\u001b[1;33m)\u001b[0m\u001b[1;33m\u001b[0m\u001b[1;33m\u001b[0m\u001b[0m\n\u001b[0m",
      "\u001b[1;32m~\\anaconda3\\lib\\site-packages\\sklearn\\utils\\validation.py\u001b[0m in \u001b[0;36minner_f\u001b[1;34m(*args, **kwargs)\u001b[0m\n\u001b[0;32m     61\u001b[0m         \u001b[1;33m@\u001b[0m\u001b[0mwraps\u001b[0m\u001b[1;33m(\u001b[0m\u001b[0mf\u001b[0m\u001b[1;33m)\u001b[0m\u001b[1;33m\u001b[0m\u001b[1;33m\u001b[0m\u001b[0m\n\u001b[0;32m     62\u001b[0m         \u001b[1;32mdef\u001b[0m \u001b[0minner_f\u001b[0m\u001b[1;33m(\u001b[0m\u001b[1;33m*\u001b[0m\u001b[0margs\u001b[0m\u001b[1;33m,\u001b[0m \u001b[1;33m**\u001b[0m\u001b[0mkwargs\u001b[0m\u001b[1;33m)\u001b[0m\u001b[1;33m:\u001b[0m\u001b[1;33m\u001b[0m\u001b[1;33m\u001b[0m\u001b[0m\n\u001b[1;32m---> 63\u001b[1;33m             \u001b[0mextra_args\u001b[0m \u001b[1;33m=\u001b[0m \u001b[0mlen\u001b[0m\u001b[1;33m(\u001b[0m\u001b[0margs\u001b[0m\u001b[1;33m)\u001b[0m \u001b[1;33m-\u001b[0m \u001b[0mlen\u001b[0m\u001b[1;33m(\u001b[0m\u001b[0mall_args\u001b[0m\u001b[1;33m)\u001b[0m\u001b[1;33m\u001b[0m\u001b[1;33m\u001b[0m\u001b[0m\n\u001b[0m\u001b[0;32m     64\u001b[0m             \u001b[1;32mif\u001b[0m \u001b[0mextra_args\u001b[0m \u001b[1;33m<=\u001b[0m \u001b[1;36m0\u001b[0m\u001b[1;33m:\u001b[0m\u001b[1;33m\u001b[0m\u001b[1;33m\u001b[0m\u001b[0m\n\u001b[0;32m     65\u001b[0m                 \u001b[1;32mreturn\u001b[0m \u001b[0mf\u001b[0m\u001b[1;33m(\u001b[0m\u001b[1;33m*\u001b[0m\u001b[0margs\u001b[0m\u001b[1;33m,\u001b[0m \u001b[1;33m**\u001b[0m\u001b[0mkwargs\u001b[0m\u001b[1;33m)\u001b[0m\u001b[1;33m\u001b[0m\u001b[1;33m\u001b[0m\u001b[0m\n",
      "\u001b[1;32m~\\anaconda3\\lib\\site-packages\\sklearn\\model_selection\\_validation.py\u001b[0m in \u001b[0;36mcross_val_score\u001b[1;34m(estimator, X, y, groups, scoring, cv, n_jobs, verbose, fit_params, pre_dispatch, error_score)\u001b[0m\n\u001b[0;32m    443\u001b[0m \u001b[1;33m\u001b[0m\u001b[0m\n\u001b[0;32m    444\u001b[0m     \u001b[0mRead\u001b[0m \u001b[0mmore\u001b[0m \u001b[1;32min\u001b[0m \u001b[0mthe\u001b[0m \u001b[1;33m:\u001b[0m\u001b[0mref\u001b[0m\u001b[1;33m:\u001b[0m\u001b[0;31m`\u001b[0m\u001b[0mUser\u001b[0m \u001b[0mGuide\u001b[0m \u001b[1;33m<\u001b[0m\u001b[0mcross_validation\u001b[0m\u001b[1;33m>\u001b[0m\u001b[0;31m`\u001b[0m\u001b[1;33m.\u001b[0m\u001b[1;33m\u001b[0m\u001b[1;33m\u001b[0m\u001b[0m\n\u001b[1;32m--> 445\u001b[1;33m \u001b[1;33m\u001b[0m\u001b[0m\n\u001b[0m\u001b[0;32m    446\u001b[0m     \u001b[0mParameters\u001b[0m\u001b[1;33m\u001b[0m\u001b[1;33m\u001b[0m\u001b[0m\n\u001b[0;32m    447\u001b[0m     \u001b[1;33m-\u001b[0m\u001b[1;33m-\u001b[0m\u001b[1;33m-\u001b[0m\u001b[1;33m-\u001b[0m\u001b[1;33m-\u001b[0m\u001b[1;33m-\u001b[0m\u001b[1;33m-\u001b[0m\u001b[1;33m-\u001b[0m\u001b[1;33m-\u001b[0m\u001b[1;33m-\u001b[0m\u001b[1;33m\u001b[0m\u001b[1;33m\u001b[0m\u001b[0m\n",
      "\u001b[1;32m~\\anaconda3\\lib\\site-packages\\sklearn\\utils\\validation.py\u001b[0m in \u001b[0;36minner_f\u001b[1;34m(*args, **kwargs)\u001b[0m\n\u001b[0;32m     61\u001b[0m         \u001b[1;33m@\u001b[0m\u001b[0mwraps\u001b[0m\u001b[1;33m(\u001b[0m\u001b[0mf\u001b[0m\u001b[1;33m)\u001b[0m\u001b[1;33m\u001b[0m\u001b[1;33m\u001b[0m\u001b[0m\n\u001b[0;32m     62\u001b[0m         \u001b[1;32mdef\u001b[0m \u001b[0minner_f\u001b[0m\u001b[1;33m(\u001b[0m\u001b[1;33m*\u001b[0m\u001b[0margs\u001b[0m\u001b[1;33m,\u001b[0m \u001b[1;33m**\u001b[0m\u001b[0mkwargs\u001b[0m\u001b[1;33m)\u001b[0m\u001b[1;33m:\u001b[0m\u001b[1;33m\u001b[0m\u001b[1;33m\u001b[0m\u001b[0m\n\u001b[1;32m---> 63\u001b[1;33m             \u001b[0mextra_args\u001b[0m \u001b[1;33m=\u001b[0m \u001b[0mlen\u001b[0m\u001b[1;33m(\u001b[0m\u001b[0margs\u001b[0m\u001b[1;33m)\u001b[0m \u001b[1;33m-\u001b[0m \u001b[0mlen\u001b[0m\u001b[1;33m(\u001b[0m\u001b[0mall_args\u001b[0m\u001b[1;33m)\u001b[0m\u001b[1;33m\u001b[0m\u001b[1;33m\u001b[0m\u001b[0m\n\u001b[0m\u001b[0;32m     64\u001b[0m             \u001b[1;32mif\u001b[0m \u001b[0mextra_args\u001b[0m \u001b[1;33m<=\u001b[0m \u001b[1;36m0\u001b[0m\u001b[1;33m:\u001b[0m\u001b[1;33m\u001b[0m\u001b[1;33m\u001b[0m\u001b[0m\n\u001b[0;32m     65\u001b[0m                 \u001b[1;32mreturn\u001b[0m \u001b[0mf\u001b[0m\u001b[1;33m(\u001b[0m\u001b[1;33m*\u001b[0m\u001b[0margs\u001b[0m\u001b[1;33m,\u001b[0m \u001b[1;33m**\u001b[0m\u001b[0mkwargs\u001b[0m\u001b[1;33m)\u001b[0m\u001b[1;33m\u001b[0m\u001b[1;33m\u001b[0m\u001b[0m\n",
      "\u001b[1;32m~\\anaconda3\\lib\\site-packages\\sklearn\\model_selection\\_validation.py\u001b[0m in \u001b[0;36mcross_validate\u001b[1;34m(estimator, X, y, groups, scoring, cv, n_jobs, verbose, fit_params, pre_dispatch, return_train_score, return_estimator, error_score)\u001b[0m\n\u001b[0;32m    248\u001b[0m \u001b[1;33m\u001b[0m\u001b[0m\n\u001b[0;32m    249\u001b[0m     \u001b[0mSee\u001b[0m \u001b[0mAlso\u001b[0m\u001b[1;33m\u001b[0m\u001b[1;33m\u001b[0m\u001b[0m\n\u001b[1;32m--> 250\u001b[1;33m     \u001b[1;33m-\u001b[0m\u001b[1;33m-\u001b[0m\u001b[1;33m-\u001b[0m\u001b[1;33m-\u001b[0m\u001b[1;33m-\u001b[0m\u001b[1;33m-\u001b[0m\u001b[1;33m-\u001b[0m\u001b[1;33m-\u001b[0m\u001b[1;33m\u001b[0m\u001b[1;33m\u001b[0m\u001b[0m\n\u001b[0m\u001b[0;32m    251\u001b[0m     \u001b[0mcross_val_score\u001b[0m \u001b[1;33m:\u001b[0m \u001b[0mRun\u001b[0m \u001b[0mcross\u001b[0m\u001b[1;33m-\u001b[0m\u001b[0mvalidation\u001b[0m \u001b[1;32mfor\u001b[0m \u001b[0msingle\u001b[0m \u001b[0mmetric\u001b[0m \u001b[0mevaluation\u001b[0m\u001b[1;33m.\u001b[0m\u001b[1;33m\u001b[0m\u001b[1;33m\u001b[0m\u001b[0m\n\u001b[0;32m    252\u001b[0m \u001b[1;33m\u001b[0m\u001b[0m\n",
      "\u001b[1;32m~\\anaconda3\\lib\\site-packages\\joblib\\parallel.py\u001b[0m in \u001b[0;36m__call__\u001b[1;34m(self, iterable)\u001b[0m\n\u001b[0;32m   1054\u001b[0m         \u001b[0mNotes\u001b[0m\u001b[1;33m\u001b[0m\u001b[1;33m\u001b[0m\u001b[0m\n\u001b[0;32m   1055\u001b[0m         \u001b[1;33m-\u001b[0m\u001b[1;33m-\u001b[0m\u001b[1;33m-\u001b[0m\u001b[1;33m-\u001b[0m\u001b[1;33m-\u001b[0m\u001b[1;33m\u001b[0m\u001b[1;33m\u001b[0m\u001b[0m\n\u001b[1;32m-> 1056\u001b[1;33m \u001b[1;33m\u001b[0m\u001b[0m\n\u001b[0m\u001b[0;32m   1057\u001b[0m         \u001b[0mThis\u001b[0m \u001b[0mobject\u001b[0m \u001b[0muses\u001b[0m \u001b[0mworkers\u001b[0m \u001b[0mto\u001b[0m \u001b[0mcompute\u001b[0m \u001b[1;32min\u001b[0m \u001b[0mparallel\u001b[0m \u001b[0mthe\u001b[0m \u001b[0mapplication\u001b[0m \u001b[0mof\u001b[0m \u001b[0ma\u001b[0m\u001b[1;33m\u001b[0m\u001b[1;33m\u001b[0m\u001b[0m\n\u001b[0;32m   1058\u001b[0m         \u001b[0mfunction\u001b[0m \u001b[0mto\u001b[0m \u001b[0mmany\u001b[0m \u001b[0mdifferent\u001b[0m \u001b[0marguments\u001b[0m\u001b[1;33m.\u001b[0m \u001b[0mThe\u001b[0m \u001b[0mmain\u001b[0m \u001b[0mfunctionality\u001b[0m \u001b[0mit\u001b[0m \u001b[0mbrings\u001b[0m\u001b[1;33m\u001b[0m\u001b[1;33m\u001b[0m\u001b[0m\n",
      "\u001b[1;32m~\\anaconda3\\lib\\site-packages\\joblib\\parallel.py\u001b[0m in \u001b[0;36mretrieve\u001b[1;34m(self)\u001b[0m\n\u001b[0;32m    933\u001b[0m     ''' Helper class for readable parallel mapping.\n\u001b[0;32m    934\u001b[0m \u001b[1;33m\u001b[0m\u001b[0m\n\u001b[1;32m--> 935\u001b[1;33m         \u001b[0mRead\u001b[0m \u001b[0mmore\u001b[0m \u001b[1;32min\u001b[0m \u001b[0mthe\u001b[0m \u001b[1;33m:\u001b[0m\u001b[0mref\u001b[0m\u001b[1;33m:\u001b[0m\u001b[0;31m`\u001b[0m\u001b[0mUser\u001b[0m \u001b[0mGuide\u001b[0m \u001b[1;33m<\u001b[0m\u001b[0mparallel\u001b[0m\u001b[1;33m>\u001b[0m\u001b[0;31m`\u001b[0m\u001b[1;33m.\u001b[0m\u001b[1;33m\u001b[0m\u001b[1;33m\u001b[0m\u001b[0m\n\u001b[0m\u001b[0;32m    936\u001b[0m \u001b[1;33m\u001b[0m\u001b[0m\n\u001b[0;32m    937\u001b[0m         \u001b[0mParameters\u001b[0m\u001b[1;33m\u001b[0m\u001b[1;33m\u001b[0m\u001b[0m\n",
      "\u001b[1;32m~\\anaconda3\\lib\\site-packages\\joblib\\_parallel_backends.py\u001b[0m in \u001b[0;36mwrap_future_result\u001b[1;34m(future, timeout)\u001b[0m\n\u001b[0;32m    540\u001b[0m     \u001b[0msupports_inner_max_num_threads\u001b[0m \u001b[1;33m=\u001b[0m \u001b[1;32mTrue\u001b[0m\u001b[1;33m\u001b[0m\u001b[1;33m\u001b[0m\u001b[0m\n\u001b[0;32m    541\u001b[0m \u001b[1;33m\u001b[0m\u001b[0m\n\u001b[1;32m--> 542\u001b[1;33m     def configure(self, n_jobs=1, parallel=None, prefer=None, require=None,\n\u001b[0m\u001b[0;32m    543\u001b[0m                   idle_worker_timeout=300, **memmappingexecutor_args):\n\u001b[0;32m    544\u001b[0m         \u001b[1;34m\"\"\"Build a process executor and return the number of workers\"\"\"\u001b[0m\u001b[1;33m\u001b[0m\u001b[1;33m\u001b[0m\u001b[0m\n",
      "\u001b[1;32m~\\anaconda3\\lib\\concurrent\\futures\\_base.py\u001b[0m in \u001b[0;36mresult\u001b[1;34m(self, timeout)\u001b[0m\n\u001b[0;32m    443\u001b[0m                     \u001b[1;32mraise\u001b[0m \u001b[0mCancelledError\u001b[0m\u001b[1;33m(\u001b[0m\u001b[1;33m)\u001b[0m\u001b[1;33m\u001b[0m\u001b[1;33m\u001b[0m\u001b[0m\n\u001b[0;32m    444\u001b[0m                 \u001b[1;32melif\u001b[0m \u001b[0mself\u001b[0m\u001b[1;33m.\u001b[0m\u001b[0m_state\u001b[0m \u001b[1;33m==\u001b[0m \u001b[0mFINISHED\u001b[0m\u001b[1;33m:\u001b[0m\u001b[1;33m\u001b[0m\u001b[1;33m\u001b[0m\u001b[0m\n\u001b[1;32m--> 445\u001b[1;33m                     \u001b[1;32mreturn\u001b[0m \u001b[0mself\u001b[0m\u001b[1;33m.\u001b[0m\u001b[0m__get_result\u001b[0m\u001b[1;33m(\u001b[0m\u001b[1;33m)\u001b[0m\u001b[1;33m\u001b[0m\u001b[1;33m\u001b[0m\u001b[0m\n\u001b[0m\u001b[0;32m    446\u001b[0m                 \u001b[1;32melse\u001b[0m\u001b[1;33m:\u001b[0m\u001b[1;33m\u001b[0m\u001b[1;33m\u001b[0m\u001b[0m\n\u001b[0;32m    447\u001b[0m                     \u001b[1;32mraise\u001b[0m \u001b[0mTimeoutError\u001b[0m\u001b[1;33m(\u001b[0m\u001b[1;33m)\u001b[0m\u001b[1;33m\u001b[0m\u001b[1;33m\u001b[0m\u001b[0m\n",
      "\u001b[1;32m~\\anaconda3\\lib\\concurrent\\futures\\_base.py\u001b[0m in \u001b[0;36m__get_result\u001b[1;34m(self)\u001b[0m\n\u001b[0;32m    388\u001b[0m         \u001b[1;32mif\u001b[0m \u001b[0mself\u001b[0m\u001b[1;33m.\u001b[0m\u001b[0m_exception\u001b[0m\u001b[1;33m:\u001b[0m\u001b[1;33m\u001b[0m\u001b[1;33m\u001b[0m\u001b[0m\n\u001b[0;32m    389\u001b[0m             \u001b[1;32mtry\u001b[0m\u001b[1;33m:\u001b[0m\u001b[1;33m\u001b[0m\u001b[1;33m\u001b[0m\u001b[0m\n\u001b[1;32m--> 390\u001b[1;33m                 \u001b[1;32mraise\u001b[0m \u001b[0mself\u001b[0m\u001b[1;33m.\u001b[0m\u001b[0m_exception\u001b[0m\u001b[1;33m\u001b[0m\u001b[1;33m\u001b[0m\u001b[0m\n\u001b[0m\u001b[0;32m    391\u001b[0m             \u001b[1;32mfinally\u001b[0m\u001b[1;33m:\u001b[0m\u001b[1;33m\u001b[0m\u001b[1;33m\u001b[0m\u001b[0m\n\u001b[0;32m    392\u001b[0m                 \u001b[1;31m# Break a reference cycle with the exception in self._exception\u001b[0m\u001b[1;33m\u001b[0m\u001b[1;33m\u001b[0m\u001b[0m\n",
      "\u001b[1;31mTerminatedWorkerError\u001b[0m: A worker process managed by the executor was unexpectedly terminated. This could be caused by a segmentation fault while calling the function or by an excessive memory usage causing the Operating System to kill the worker.\n"
     ]
    }
   ],
   "source": [
    "from sklearn.model_selection import cross_val_score\n",
    "X_train_subset = X_train_interaction[:1000]  # Adjust the size as needed\n",
    "y_train_subset = y_train[:1000]\n",
    "\n",
    "# Perform cross-validation on the subset\n",
    "scores = cross_val_score(lasso, X=X_train_subset, y=y_train_subset, cv=10, scoring='r2', n_jobs=-1, verbose=2)"
   ]
  },
  {
   "cell_type": "markdown",
   "id": "2c157a0e",
   "metadata": {},
   "source": [
    "**conclusion : the linear regression model with interaction algorithm and Lasso model are the most accurate and giving the lowest RMSE. Lasso model will be perfect and can be suggested to insurance companies as it will perform better in production."
   ]
  }
 ],
 "metadata": {
  "kernelspec": {
   "display_name": "Python 3 (ipykernel)",
   "language": "python",
   "name": "python3"
  },
  "language_info": {
   "codemirror_mode": {
    "name": "ipython",
    "version": 3
   },
   "file_extension": ".py",
   "mimetype": "text/x-python",
   "name": "python",
   "nbconvert_exporter": "python",
   "pygments_lexer": "ipython3",
   "version": "3.9.7"
  }
 },
 "nbformat": 4,
 "nbformat_minor": 5
}
